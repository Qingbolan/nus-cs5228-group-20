{
 "cells": [
  {
   "cell_type": "markdown",
   "id": "467e755b",
   "metadata": {},
   "source": [
    "<img src=\"images/cs5228-header-title.png\" />"
   ]
  },
  {
   "cell_type": "markdown",
   "id": "f3caa7ec",
   "metadata": {},
   "source": [
    "### Group_work - Exploratory Data Analysis (EDA) & Data Preprocessing\n",
    "\n",
    "This notebook covers Exploratory Data Analysis (EDA) and Data Preprocessing for the Singapore Used Car Price Prediction project."
   ]
  },
  {
   "cell_type": "markdown",
   "id": "6f138e4e",
   "metadata": {},
   "source": [
    "### Step 1: Data Exploration and Preprocessing\n",
    "\n",
    "#### 1.1 Data Loading and Initial Exploration\n",
    "\n",
    "loading the dataset and examining its structure:"
   ]
  },
  {
   "cell_type": "code",
   "execution_count": 38,
   "id": "31d1136a",
   "metadata": {},
   "outputs": [],
   "source": [
    "# !pip install pandas numpy matplotlib seaborn scikit-learn fuzzywuzzy python-Levenshtein"
   ]
  },
  {
   "cell_type": "code",
   "execution_count": 39,
   "id": "38d40166-f4c5-4159-93ac-34f06a8559db",
   "metadata": {},
   "outputs": [
    {
     "name": "stdout",
     "output_type": "stream",
     "text": [
      "(25000, 29)\n"
     ]
    },
    {
     "data": {
      "text/html": [
       "<div>\n",
       "<style scoped>\n",
       "    .dataframe tbody tr th:only-of-type {\n",
       "        vertical-align: middle;\n",
       "    }\n",
       "\n",
       "    .dataframe tbody tr th {\n",
       "        vertical-align: top;\n",
       "    }\n",
       "\n",
       "    .dataframe thead th {\n",
       "        text-align: right;\n",
       "    }\n",
       "</style>\n",
       "<table border=\"1\" class=\"dataframe\">\n",
       "  <thead>\n",
       "    <tr style=\"text-align: right;\">\n",
       "      <th></th>\n",
       "      <th>title</th>\n",
       "      <th>make</th>\n",
       "      <th>model</th>\n",
       "      <th>description</th>\n",
       "      <th>manufactured</th>\n",
       "      <th>original_reg_date</th>\n",
       "      <th>reg_date</th>\n",
       "      <th>type_of_vehicle</th>\n",
       "      <th>category</th>\n",
       "      <th>transmission</th>\n",
       "      <th>...</th>\n",
       "      <th>mileage</th>\n",
       "      <th>omv</th>\n",
       "      <th>arf</th>\n",
       "      <th>opc_scheme</th>\n",
       "      <th>lifespan</th>\n",
       "      <th>eco_category</th>\n",
       "      <th>features</th>\n",
       "      <th>accessories</th>\n",
       "      <th>indicative_price</th>\n",
       "      <th>price</th>\n",
       "    </tr>\n",
       "    <tr>\n",
       "      <th>listing_id</th>\n",
       "      <th></th>\n",
       "      <th></th>\n",
       "      <th></th>\n",
       "      <th></th>\n",
       "      <th></th>\n",
       "      <th></th>\n",
       "      <th></th>\n",
       "      <th></th>\n",
       "      <th></th>\n",
       "      <th></th>\n",
       "      <th></th>\n",
       "      <th></th>\n",
       "      <th></th>\n",
       "      <th></th>\n",
       "      <th></th>\n",
       "      <th></th>\n",
       "      <th></th>\n",
       "      <th></th>\n",
       "      <th></th>\n",
       "      <th></th>\n",
       "      <th></th>\n",
       "    </tr>\n",
       "  </thead>\n",
       "  <tbody>\n",
       "    <tr>\n",
       "      <th>1292132</th>\n",
       "      <td>Land Rover Range Rover Velar 3.0A Si6 R-Dynami...</td>\n",
       "      <td>land rover</td>\n",
       "      <td>range</td>\n",
       "      <td>1 owner, no repairs needed! it looks great, in...</td>\n",
       "      <td>2018.0</td>\n",
       "      <td>NaN</td>\n",
       "      <td>08-mar-2018</td>\n",
       "      <td>suv</td>\n",
       "      <td>parf car</td>\n",
       "      <td>auto</td>\n",
       "      <td>...</td>\n",
       "      <td>96000.0</td>\n",
       "      <td>88906.0</td>\n",
       "      <td>132031.0</td>\n",
       "      <td>NaN</td>\n",
       "      <td>NaN</td>\n",
       "      <td>uncategorized</td>\n",
       "      <td>3l supercharged v6 p380 engine at 375bhp/450nm...</td>\n",
       "      <td>2 x massage/memory/cooling &amp; warmer seat, rear...</td>\n",
       "      <td>NaN</td>\n",
       "      <td>193788.0</td>\n",
       "    </tr>\n",
       "    <tr>\n",
       "      <th>1294696</th>\n",
       "      <td>Mercedes-Benz C-Class C200 Sport Premium Sunroof</td>\n",
       "      <td>mercedes-benz</td>\n",
       "      <td>c200</td>\n",
       "      <td>rare beautiful white c200 sport premium sunroo...</td>\n",
       "      <td>2017.0</td>\n",
       "      <td>NaN</td>\n",
       "      <td>28-dec-2017</td>\n",
       "      <td>luxury sedan</td>\n",
       "      <td>parf car, premium ad car</td>\n",
       "      <td>auto</td>\n",
       "      <td>...</td>\n",
       "      <td>85680.0</td>\n",
       "      <td>40678.0</td>\n",
       "      <td>43950.0</td>\n",
       "      <td>NaN</td>\n",
       "      <td>NaN</td>\n",
       "      <td>uncategorized</td>\n",
       "      <td>2.0l 4 cylinders inline turbocharged engine, p...</td>\n",
       "      <td>multi function steering, electric tailgate, re...</td>\n",
       "      <td>NaN</td>\n",
       "      <td>96800.0</td>\n",
       "    </tr>\n",
       "    <tr>\n",
       "      <th>1311717</th>\n",
       "      <td>Honda Odyssey 2.4A (COE till 09/2027)</td>\n",
       "      <td>honda</td>\n",
       "      <td>odyssey</td>\n",
       "      <td>comes with warranty. full service done.</td>\n",
       "      <td>2007.0</td>\n",
       "      <td>NaN</td>\n",
       "      <td>19-sep-2007</td>\n",
       "      <td>mpv</td>\n",
       "      <td>coe car, premium ad car, low mileage car</td>\n",
       "      <td>auto</td>\n",
       "      <td>...</td>\n",
       "      <td>138000.0</td>\n",
       "      <td>27994.0</td>\n",
       "      <td>30794.0</td>\n",
       "      <td>NaN</td>\n",
       "      <td>NaN</td>\n",
       "      <td>uncategorized</td>\n",
       "      <td>2.4l k24a 4 cylinders inline dohc i-vtec, 5 sp...</td>\n",
       "      <td>cruise control, touchscreen audio, reverse cam...</td>\n",
       "      <td>NaN</td>\n",
       "      <td>39800.0</td>\n",
       "    </tr>\n",
       "    <tr>\n",
       "      <th>1310068</th>\n",
       "      <td>Toyota Corolla Altis 1.6A (COE till 12/2028)</td>\n",
       "      <td>toyota</td>\n",
       "      <td>altis</td>\n",
       "      <td>0</td>\n",
       "      <td>2008.0</td>\n",
       "      <td>NaN</td>\n",
       "      <td>15-dec-2008</td>\n",
       "      <td>mid-sized sedan</td>\n",
       "      <td>coe car, premium ad car</td>\n",
       "      <td>auto</td>\n",
       "      <td>...</td>\n",
       "      <td>160000.0</td>\n",
       "      <td>16084.0</td>\n",
       "      <td>16084.0</td>\n",
       "      <td>NaN</td>\n",
       "      <td>NaN</td>\n",
       "      <td>uncategorized</td>\n",
       "      <td>super fuel efficient 1.6l 16 valves dohc vvt-i...</td>\n",
       "      <td>leather seats, pioneer dvd audio system with r...</td>\n",
       "      <td>NaN</td>\n",
       "      <td>44800.0</td>\n",
       "    </tr>\n",
       "    <tr>\n",
       "      <th>1325280</th>\n",
       "      <td>Lexus GS300 (COE till 06/2026)</td>\n",
       "      <td>lexus</td>\n",
       "      <td>gs</td>\n",
       "      <td>wear and tear done up. well maintained and reg...</td>\n",
       "      <td>2006.0</td>\n",
       "      <td>NaN</td>\n",
       "      <td>22-dec-2006</td>\n",
       "      <td>luxury sedan</td>\n",
       "      <td>coe car, premium ad car</td>\n",
       "      <td>auto</td>\n",
       "      <td>...</td>\n",
       "      <td>183000.0</td>\n",
       "      <td>50414.0</td>\n",
       "      <td>55456.0</td>\n",
       "      <td>NaN</td>\n",
       "      <td>NaN</td>\n",
       "      <td>uncategorized</td>\n",
       "      <td>powerful 3.0l v6 engine, 227bhp, 6 speed , key...</td>\n",
       "      <td>premium upholstery electric seats. memory seat...</td>\n",
       "      <td>NaN</td>\n",
       "      <td>25800.0</td>\n",
       "    </tr>\n",
       "  </tbody>\n",
       "</table>\n",
       "<p>5 rows × 29 columns</p>\n",
       "</div>"
      ],
      "text/plain": [
       "                                                        title           make  \\\n",
       "listing_id                                                                     \n",
       "1292132     Land Rover Range Rover Velar 3.0A Si6 R-Dynami...     land rover   \n",
       "1294696      Mercedes-Benz C-Class C200 Sport Premium Sunroof  mercedes-benz   \n",
       "1311717                 Honda Odyssey 2.4A (COE till 09/2027)          honda   \n",
       "1310068          Toyota Corolla Altis 1.6A (COE till 12/2028)         toyota   \n",
       "1325280                        Lexus GS300 (COE till 06/2026)          lexus   \n",
       "\n",
       "              model                                        description  \\\n",
       "listing_id                                                               \n",
       "1292132       range  1 owner, no repairs needed! it looks great, in...   \n",
       "1294696        c200  rare beautiful white c200 sport premium sunroo...   \n",
       "1311717     odyssey            comes with warranty. full service done.   \n",
       "1310068       altis                                                  0   \n",
       "1325280          gs  wear and tear done up. well maintained and reg...   \n",
       "\n",
       "            manufactured original_reg_date     reg_date  type_of_vehicle  \\\n",
       "listing_id                                                                 \n",
       "1292132           2018.0               NaN  08-mar-2018              suv   \n",
       "1294696           2017.0               NaN  28-dec-2017     luxury sedan   \n",
       "1311717           2007.0               NaN  19-sep-2007              mpv   \n",
       "1310068           2008.0               NaN  15-dec-2008  mid-sized sedan   \n",
       "1325280           2006.0               NaN  22-dec-2006     luxury sedan   \n",
       "\n",
       "                                            category transmission  ...  \\\n",
       "listing_id                                                         ...   \n",
       "1292132                                     parf car         auto  ...   \n",
       "1294696                     parf car, premium ad car         auto  ...   \n",
       "1311717     coe car, premium ad car, low mileage car         auto  ...   \n",
       "1310068                      coe car, premium ad car         auto  ...   \n",
       "1325280                      coe car, premium ad car         auto  ...   \n",
       "\n",
       "             mileage      omv       arf  opc_scheme  lifespan   eco_category  \\\n",
       "listing_id                                                                     \n",
       "1292132      96000.0  88906.0  132031.0         NaN       NaN  uncategorized   \n",
       "1294696      85680.0  40678.0   43950.0         NaN       NaN  uncategorized   \n",
       "1311717     138000.0  27994.0   30794.0         NaN       NaN  uncategorized   \n",
       "1310068     160000.0  16084.0   16084.0         NaN       NaN  uncategorized   \n",
       "1325280     183000.0  50414.0   55456.0         NaN       NaN  uncategorized   \n",
       "\n",
       "                                                     features  \\\n",
       "listing_id                                                      \n",
       "1292132     3l supercharged v6 p380 engine at 375bhp/450nm...   \n",
       "1294696     2.0l 4 cylinders inline turbocharged engine, p...   \n",
       "1311717     2.4l k24a 4 cylinders inline dohc i-vtec, 5 sp...   \n",
       "1310068     super fuel efficient 1.6l 16 valves dohc vvt-i...   \n",
       "1325280     powerful 3.0l v6 engine, 227bhp, 6 speed , key...   \n",
       "\n",
       "                                                  accessories  \\\n",
       "listing_id                                                      \n",
       "1292132     2 x massage/memory/cooling & warmer seat, rear...   \n",
       "1294696     multi function steering, electric tailgate, re...   \n",
       "1311717     cruise control, touchscreen audio, reverse cam...   \n",
       "1310068     leather seats, pioneer dvd audio system with r...   \n",
       "1325280     premium upholstery electric seats. memory seat...   \n",
       "\n",
       "            indicative_price     price  \n",
       "listing_id                              \n",
       "1292132                  NaN  193788.0  \n",
       "1294696                  NaN   96800.0  \n",
       "1311717                  NaN   39800.0  \n",
       "1310068                  NaN   44800.0  \n",
       "1325280                  NaN   25800.0  \n",
       "\n",
       "[5 rows x 29 columns]"
      ]
     },
     "execution_count": 39,
     "metadata": {},
     "output_type": "execute_result"
    }
   ],
   "source": [
    "# load libraries\n",
    "import pandas as pd\n",
    "import numpy as np\n",
    "import matplotlib.pyplot as plt\n",
    "from sklearn.preprocessing import MultiLabelBinarizer\n",
    "from fuzzywuzzy import process\n",
    "import re\n",
    "import os\n",
    "\n",
    "# 设置图表风格\n",
    "# plt.style.use('seaborn')\n",
    "\n",
    "# load data\n",
    "# data = pd.read_csv('../../data/for-experiment-raw/for_train.csv',index_col=0)\n",
    "data = pd.read_csv('../../data/raw/train.csv',index_col=0)\n",
    "\n",
    "print(data.shape)\n",
    "data.head()"
   ]
  },
  {
   "cell_type": "markdown",
   "id": "54f3031e",
   "metadata": {},
   "source": [
    "#### 1.2 Understanding Each Attribute\n",
    "\n",
    "##### 1.2.1 check the pysical meaning of each column\n",
    "1. **listing_id**: Unique identifier for each car listing in the dataset.\n",
    "\n",
    "2. **title**: A brief description of the car.\n",
    "\n",
    "3. **make**: The brand of the car (e.g., Toyota, Honda).\n",
    "\n",
    "4. **model**: The specific model of the car within a brand.\n",
    "\n",
    "5. **description**: Detailed description of the car.\n",
    "\n",
    "6. **manufactured**: The year the car was manufactured.\n",
    "\n",
    "7. **original_reg_date**: Date of first registration of the car.\n",
    "\n",
    "8. **reg_date**: Most recent registration date of the car.\n",
    "\n",
    "9. **type_of_vehicle**: Category of the vehicle (e.g., sedan, SUV).\n",
    "\n",
    "10. **category**: A more specific categorization of the vehicle.\n",
    "\n",
    "11. **transmission**: Type of transmission of the car (e.g., automatic, manual).\n",
    "\n",
    "12. **curb_weight**: Weight of the vehicle without passengers or cargo.\n",
    "\n",
    "13. **power**: Engine power of the car, likely in horsepower or kilowatts.\n",
    "\n",
    "14. **fuel_type**: Type of fuel the car uses (e.g., petrol, diesel, electric).\n",
    "\n",
    "15. **engine_cap**: Engine capacity of the car, typically in liters or cc.\n",
    "\n",
    "16. **no_of_owners**: Number of previous owners of the car.\n",
    "\n",
    "17. **depreciation**: Rate at which the car loses value over time.\n",
    "\n",
    "18. **coe**: Certificate of Entitlement, specific to Singapore's car market.\n",
    "\n",
    "19. **road_tax**: Amount of road tax payable for the vehicle.\n",
    "\n",
    "20. **dereg_value**: Value of the car if it were to be deregistered.\n",
    "\n",
    "21. **mileage**: Distance the car has been driven.\n",
    "\n",
    "22. **omv**: Open Market Value, the car's value before taxes.\n",
    "\n",
    "23. **arf**: Additional Registration Fee, a tax imposed on vehicle registration.\n",
    "\n",
    "24. **opc_scheme**: Off-Peak Car scheme, specific to Singapore's traffic management.\n",
    "\n",
    "25. **lifespan**: Expected or remaining lifespan of the vehicle.\n",
    "\n",
    "26. **eco_category**: Environmental category of the car.\n",
    "\n",
    "27. **features**: List of car features or amenities.\n",
    "\n",
    "28. **accessories**: Additional accessories or modifications to the car.\n",
    "\n",
    "29. **indicative_price**: A suggested or estimated price for the car.\n",
    "\n",
    "30. **price**: The actual price of the car."
   ]
  },
  {
   "cell_type": "markdown",
   "id": "c3468bdd",
   "metadata": {},
   "source": [
    "##### 1.2.2 Deeper Understanding and Thought after Our First meeting(2024.9.25)\n",
    "\n",
    "| Attribute | Data Type | Null Values | Characteristics | Processing Suggestions |\n",
    "|-----------|-----------|-------------|-----------------|------------------------|\n",
    "| listing_id | int64 | 0 | Unique identifier | Remove, not useful for analysis |\n",
    "| title | object | 0 | Contains brand, model, engine info | Use to fill make and model gaps; possibly extract engine info |\n",
    "| make | object | 1316 | 95 car brands | Fill nulls using title; consider grouping rare brands as \"Other\" |\n",
    "| model | object | 0 | 799 car models | Use title to correct inaccuracies |\n",
    "| description | object | 680 | Free text | Consider NLP for key info extraction; potential for new feature creation |\n",
    "| manufactured | float64 | 7 | Manufacturing year | remove null row|\n",
    "| original_reg_date | object | 24745 | Original registration date | Consider removing |\n",
    "| reg_date | object | 0 | Registration date | Convert to vehicle age |\n",
    "| type_of_vehicle | object | 0 | 11 vehicle types | One-hot encoding or ordinal encoding |\n",
    "| category | object | 0 | 15 categories, multi-valued | One-hot encoding, treat \"-\" as a category |\n",
    "| transmission | object | 0 | Auto/Manual | Binary encoding (0/1) |\n",
    "| curb_weight | float64 | 307 | Vehicle weight (kg) | Mean imputation or consider removal |\n",
    "| power | float64 | 2640 | Engine power (kW) | Mean imputation |\n",
    "| fuel_type | object | 19121 | 5 fuel types | One-hot encoding, consider imputation using make+model |\n",
    "| engine_cap | float64 | 596 | Engine capacity (cc) | Mean imputation, possibly group by engine type |\n",
    "| no_of_owners | float64 | 18 | 1-6 previous owners | Mode imputation, maintain numerical relationship |\n",
    "| depreciation | float64 | 507 | Annual depreciation (SGD) | Mean imputation or remove related rows |\n",
    "| coe | int64 | 0 | Certificate of Entitlement value (SGD) | No processing needed, consider association with title |\n",
    "| road_tax | float64 | 2632 | Annual road tax (SGD) | Mean imputation, possibly associate with engine size |\n",
    "| dereg_value | float64 | 220 | Deregistration value (SGD) | Consider removal (high correlation with price) |\n",
    "| mileage | float64 | 5304 | Kilometers driven | Consider removal or median imputation |\n",
    "| omv | float64 | 64 | Open Market Value (SGD) | Mean imputation or remove related rows |\n",
    "| arf | float64 | 174 | Additional Registration Fee (SGD) | Mean imputation or remove related rows |\n",
    "| opc_scheme | object | 24838 | Off-Peak Car scheme | Consider removal or further investigation of impact |\n",
    "| lifespan | object | 22671 | Vehicle scrappage date | Convert to remaining lifespan, consider predictive imputation |\n",
    "| eco_category | object | 0 | Only \"uncategorized\" | Remove |\n",
    "| features | object | 843 | Vehicle feature descriptions | Consider NLP for key info extraction |\n",
    "| accessories | object | 3813 | Accessory descriptions | Consider NLP for key info extraction |\n",
    "| indicative_price | float64 | 25000 | Guide price | Remove |\n",
    "| price | float64 | 0 | Actual selling price (SGD) | Target variable, no processing needed |\n",
    "\n",
    "Our thought process and considerations:\n",
    "1. Unique Identifier: We decided to remove 'listing_id' as it's not useful for price prediction.\n",
    "2. Title Information: We noted that 'title' contains valuable information about make and model, which can be used to fill gaps in those fields.\n",
    "3. Make and Model Consistency: We observed discrepancies between 'title', 'make', and 'model'. We plan to use 'title' to correct and fill in 'make' (1316 nulls) and 'model' information.\n",
    "4. Date Handling: We decided to convert 'reg_date' into vehicle age. We're considering removing 'original_reg_date' due to excessive missing values (24,745 nulls).\n",
    "5. Categorical Variables: \n",
    "   - For 'type_of_vehicle' (11 types) and 'category' (15 types), we proposed one-hot encoding.\n",
    "   - 'transmission' will be binary encoded (0/1) as it only has two categories.\n",
    "6. Numerical Attributes:\n",
    "   - We'll use mean imputation for 'curb_weight', 'power', 'engine_cap', 'depreciation', 'road_tax', 'omv', and 'arf'.\n",
    "   - 'mileage' has many nulls (5,304); we're considering removal or median imputation.\n",
    "7. Fuel Type: Despite high nulls (19,121), we'll keep 'fuel_type' and one-hot encode it, possibly using make+model for imputation.\n",
    "8. Previous Owners: We'll use mode imputation for 'no_of_owners' and maintain its numerical relationship.\n",
    "9. Text Fields: For 'description', 'features', and 'accessories', we're considering NLP techniques to extract key information.\n",
    "10. Singapore-specific Features: \n",
    "    - We recognized the importance of 'coe' in the Singapore market.\n",
    "    - We're considering removing 'opc_scheme' due to excessive nulls (24,838) but may investigate its impact further.\n",
    "11. Correlated Features: We noted 'dereg_value' is highly correlated with price (0.92) and are considering its removal.\n",
    "12. Useless Features: We decided to remove 'eco_category' (only one category) and 'indicative_price' (all null).\n",
    "13. Target Variable: We identified 'price' as our prediction target, requiring no preprocessing.\n",
    "14. Time-related Feature: For 'lifespan', we plan to convert it to remaining lifespan and consider predictive imputation for the many null values (22,671)."
   ]
  },
  {
   "cell_type": "markdown",
   "id": "06f83d3b",
   "metadata": {},
   "source": [
    "<svg id=\"mermaidChart163\" width=\"100%\" xmlns=\"http://www.w3.org/2000/svg\" xmlns:xlink=\"http://www.w3.org/1999/xlink\" style=\"max-width: 830.312px; margin: 0px; color: rgb(58, 71, 73); fill: rgb(58, 71, 73); stroke: none; stroke-width: 1px; opacity: 1; stroke-dasharray: none; font-size: 16px; font-family: sans-serif; text-anchor: start; padding: 0px;\" viewBox=\"0 0 830.3125 520.71875\" role=\"graphics-document document\" aria-roledescription=\"classDiagram\"><style style=\"background-color: rgba(0, 0, 0, 0); color: rgb(58, 71, 73); fill: rgb(58, 71, 73); stroke: none; stroke-width: 1px; opacity: 1; stroke-dasharray: none; font-size: 16px; font-family: sans-serif; text-anchor: start; padding: 0px; margin: 0px;\">#mermaidChart163{font-family:sans-serif;font-size:16px;fill:rgb(58, 71, 73);}#mermaidChart163 .error-icon{fill:#552222;}#mermaidChart163 .error-text{fill:#552222;stroke:#552222;}#mermaidChart163 .edge-thickness-normal{stroke-width:2px;}#mermaidChart163 .edge-thickness-thick{stroke-width:3.5px;}#mermaidChart163 .edge-pattern-solid{stroke-dasharray:0;}#mermaidChart163 .edge-pattern-dashed{stroke-dasharray:3;}#mermaidChart163 .edge-pattern-dotted{stroke-dasharray:2;}#mermaidChart163 .marker{fill:#333333;stroke:#333333;}#mermaidChart163 .marker.cross{stroke:#333333;}#mermaidChart163 svg{font-family:sans-serif;font-size:16px;}#mermaidChart163 g.classGroup text{fill:#9370DB;stroke:none;font-family:sans-serif;font-size:10px;}#mermaidChart163 g.classGroup text .title{font-weight:bolder;}#mermaidChart163 .nodeLabel,#mermaidChart163 .edgeLabel{color:#131300;}#mermaidChart163 .edgeLabel .label rect{fill:#ECECFF;}#mermaidChart163 .label text{fill:#131300;}#mermaidChart163 .edgeLabel .label span{background:#ECECFF;}#mermaidChart163 .classTitle{font-weight:bolder;}#mermaidChart163 .node rect,#mermaidChart163 .node circle,#mermaidChart163 .node ellipse,#mermaidChart163 .node polygon,#mermaidChart163 .node path{fill:#ECECFF;stroke:#9370DB;stroke-width:1px;}#mermaidChart163 .divider{stroke:#9370DB;stroke-width:1;}#mermaidChart163 g.clickable{cursor:pointer;}#mermaidChart163 g.classGroup rect{fill:#ECECFF;stroke:#9370DB;}#mermaidChart163 g.classGroup line{stroke:#9370DB;stroke-width:1;}#mermaidChart163 .classLabel .box{stroke:none;stroke-width:0;fill:#ECECFF;opacity:0.5;}#mermaidChart163 .classLabel .label{fill:#9370DB;font-size:10px;}#mermaidChart163 .relation{stroke:#333333;stroke-width:1;fill:none;}#mermaidChart163 .dashed-line{stroke-dasharray:3;}#mermaidChart163 .dotted-line{stroke-dasharray:1 2;}#mermaidChart163 #compositionStart,#mermaidChart163 .composition{fill:#333333!important;stroke:#333333!important;stroke-width:1;}#mermaidChart163 #compositionEnd,#mermaidChart163 .composition{fill:#333333!important;stroke:#333333!important;stroke-width:1;}#mermaidChart163 #dependencyStart,#mermaidChart163 .dependency{fill:#333333!important;stroke:#333333!important;stroke-width:1;}#mermaidChart163 #dependencyStart,#mermaidChart163 .dependency{fill:#333333!important;stroke:#333333!important;stroke-width:1;}#mermaidChart163 #extensionStart,#mermaidChart163 .extension{fill:transparent!important;stroke:#333333!important;stroke-width:1;}#mermaidChart163 #extensionEnd,#mermaidChart163 .extension{fill:transparent!important;stroke:#333333!important;stroke-width:1;}#mermaidChart163 #aggregationStart,#mermaidChart163 .aggregation{fill:transparent!important;stroke:#333333!important;stroke-width:1;}#mermaidChart163 #aggregationEnd,#mermaidChart163 .aggregation{fill:transparent!important;stroke:#333333!important;stroke-width:1;}#mermaidChart163 #lollipopStart,#mermaidChart163 .lollipop{fill:#ECECFF!important;stroke:#333333!important;stroke-width:1;}#mermaidChart163 #lollipopEnd,#mermaidChart163 .lollipop{fill:#ECECFF!important;stroke:#333333!important;stroke-width:1;}#mermaidChart163 .edgeTerminals{font-size:11px;line-height:initial;}#mermaidChart163 .classTitleText{text-anchor:middle;font-size:18px;fill:#333;}#mermaidChart163 :root{--mermaid-alt-font-family:sans-serif;}</style><g style=\"background-color: rgba(0, 0, 0, 0); color: rgb(58, 71, 73); fill: rgb(58, 71, 73); stroke: none; stroke-width: 1px; opacity: 1; stroke-dasharray: none; font-size: 16px; font-family: sans-serif; text-anchor: start; padding: 0px; margin: 0px;\"><defs style=\"background-color: rgba(0, 0, 0, 0); color: rgb(58, 71, 73); fill: rgb(58, 71, 73); stroke: none; stroke-width: 1px; opacity: 1; stroke-dasharray: none; font-size: 16px; font-family: sans-serif; text-anchor: start; padding: 0px; margin: 0px;\"><marker id=\"mermaidChart163_classDiagram-aggregationStart\" class=\"marker aggregation classDiagram\" refX=\"18\" refY=\"7\" markerWidth=\"190\" markerHeight=\"240\" orient=\"auto\" style=\"background-color: rgba(0, 0, 0, 0); color: rgb(58, 71, 73); fill: rgba(0, 0, 0, 0); stroke: rgb(51, 51, 51); stroke-width: 1px; opacity: 1; stroke-dasharray: none; font-size: 16px; font-family: sans-serif; text-anchor: start; padding: 0px; margin: 0px;\"><path d=\"M 18,7 L9,13 L1,7 L9,1 Z\" style=\"background-color: rgba(0, 0, 0, 0); color: rgb(58, 71, 73); fill: rgba(0, 0, 0, 0); stroke: rgb(51, 51, 51); stroke-width: 1px; opacity: 1; stroke-dasharray: none; font-size: 16px; font-family: sans-serif; text-anchor: start; padding: 0px; margin: 0px;\"></path></marker></defs><defs style=\"background-color: rgba(0, 0, 0, 0); color: rgb(58, 71, 73); fill: rgb(58, 71, 73); stroke: none; stroke-width: 1px; opacity: 1; stroke-dasharray: none; font-size: 16px; font-family: sans-serif; text-anchor: start; padding: 0px; margin: 0px;\"><marker id=\"mermaidChart163_classDiagram-aggregationEnd\" class=\"marker aggregation classDiagram\" refX=\"1\" refY=\"7\" markerWidth=\"20\" markerHeight=\"28\" orient=\"auto\" style=\"background-color: rgba(0, 0, 0, 0); color: rgb(58, 71, 73); fill: rgba(0, 0, 0, 0); stroke: rgb(51, 51, 51); stroke-width: 1px; opacity: 1; stroke-dasharray: none; font-size: 16px; font-family: sans-serif; text-anchor: start; padding: 0px; margin: 0px;\"><path d=\"M 18,7 L9,13 L1,7 L9,1 Z\" style=\"background-color: rgba(0, 0, 0, 0); color: rgb(58, 71, 73); fill: rgba(0, 0, 0, 0); stroke: rgb(51, 51, 51); stroke-width: 1px; opacity: 1; stroke-dasharray: none; font-size: 16px; font-family: sans-serif; text-anchor: start; padding: 0px; margin: 0px;\"></path></marker></defs><defs style=\"background-color: rgba(0, 0, 0, 0); color: rgb(58, 71, 73); fill: rgb(58, 71, 73); stroke: none; stroke-width: 1px; opacity: 1; stroke-dasharray: none; font-size: 16px; font-family: sans-serif; text-anchor: start; padding: 0px; margin: 0px;\"><marker id=\"mermaidChart163_classDiagram-extensionStart\" class=\"marker extension classDiagram\" refX=\"18\" refY=\"7\" markerWidth=\"190\" markerHeight=\"240\" orient=\"auto\" style=\"background-color: rgba(0, 0, 0, 0); color: rgb(58, 71, 73); fill: rgba(0, 0, 0, 0); stroke: rgb(51, 51, 51); stroke-width: 1px; opacity: 1; stroke-dasharray: none; font-size: 16px; font-family: sans-serif; text-anchor: start; padding: 0px; margin: 0px;\"><path d=\"M 1,7 L18,13 V 1 Z\" style=\"background-color: rgba(0, 0, 0, 0); color: rgb(58, 71, 73); fill: rgba(0, 0, 0, 0); stroke: rgb(51, 51, 51); stroke-width: 1px; opacity: 1; stroke-dasharray: none; font-size: 16px; font-family: sans-serif; text-anchor: start; padding: 0px; margin: 0px;\"></path></marker></defs><defs style=\"background-color: rgba(0, 0, 0, 0); color: rgb(58, 71, 73); fill: rgb(58, 71, 73); stroke: none; stroke-width: 1px; opacity: 1; stroke-dasharray: none; font-size: 16px; font-family: sans-serif; text-anchor: start; padding: 0px; margin: 0px;\"><marker id=\"mermaidChart163_classDiagram-extensionEnd\" class=\"marker extension classDiagram\" refX=\"1\" refY=\"7\" markerWidth=\"20\" markerHeight=\"28\" orient=\"auto\" style=\"background-color: rgba(0, 0, 0, 0); color: rgb(58, 71, 73); fill: rgba(0, 0, 0, 0); stroke: rgb(51, 51, 51); stroke-width: 1px; opacity: 1; stroke-dasharray: none; font-size: 16px; font-family: sans-serif; text-anchor: start; padding: 0px; margin: 0px;\"><path d=\"M 1,1 V 13 L18,7 Z\" style=\"background-color: rgba(0, 0, 0, 0); color: rgb(58, 71, 73); fill: rgba(0, 0, 0, 0); stroke: rgb(51, 51, 51); stroke-width: 1px; opacity: 1; stroke-dasharray: none; font-size: 16px; font-family: sans-serif; text-anchor: start; padding: 0px; margin: 0px;\"></path></marker></defs><defs style=\"background-color: rgba(0, 0, 0, 0); color: rgb(58, 71, 73); fill: rgb(58, 71, 73); stroke: none; stroke-width: 1px; opacity: 1; stroke-dasharray: none; font-size: 16px; font-family: sans-serif; text-anchor: start; padding: 0px; margin: 0px;\"><marker id=\"mermaidChart163_classDiagram-compositionStart\" class=\"marker composition classDiagram\" refX=\"18\" refY=\"7\" markerWidth=\"190\" markerHeight=\"240\" orient=\"auto\" style=\"background-color: rgba(0, 0, 0, 0); color: rgb(58, 71, 73); fill: rgb(51, 51, 51); stroke: rgb(51, 51, 51); stroke-width: 1px; opacity: 1; stroke-dasharray: none; font-size: 16px; font-family: sans-serif; text-anchor: start; padding: 0px; margin: 0px;\"><path d=\"M 18,7 L9,13 L1,7 L9,1 Z\" style=\"background-color: rgba(0, 0, 0, 0); color: rgb(58, 71, 73); fill: rgb(51, 51, 51); stroke: rgb(51, 51, 51); stroke-width: 1px; opacity: 1; stroke-dasharray: none; font-size: 16px; font-family: sans-serif; text-anchor: start; padding: 0px; margin: 0px;\"></path></marker></defs><defs style=\"background-color: rgba(0, 0, 0, 0); color: rgb(58, 71, 73); fill: rgb(58, 71, 73); stroke: none; stroke-width: 1px; opacity: 1; stroke-dasharray: none; font-size: 16px; font-family: sans-serif; text-anchor: start; padding: 0px; margin: 0px;\"><marker id=\"mermaidChart163_classDiagram-compositionEnd\" class=\"marker composition classDiagram\" refX=\"1\" refY=\"7\" markerWidth=\"20\" markerHeight=\"28\" orient=\"auto\" style=\"background-color: rgba(0, 0, 0, 0); color: rgb(58, 71, 73); fill: rgb(51, 51, 51); stroke: rgb(51, 51, 51); stroke-width: 1px; opacity: 1; stroke-dasharray: none; font-size: 16px; font-family: sans-serif; text-anchor: start; padding: 0px; margin: 0px;\"><path d=\"M 18,7 L9,13 L1,7 L9,1 Z\" style=\"background-color: rgba(0, 0, 0, 0); color: rgb(58, 71, 73); fill: rgb(51, 51, 51); stroke: rgb(51, 51, 51); stroke-width: 1px; opacity: 1; stroke-dasharray: none; font-size: 16px; font-family: sans-serif; text-anchor: start; padding: 0px; margin: 0px;\"></path></marker></defs><defs style=\"background-color: rgba(0, 0, 0, 0); color: rgb(58, 71, 73); fill: rgb(58, 71, 73); stroke: none; stroke-width: 1px; opacity: 1; stroke-dasharray: none; font-size: 16px; font-family: sans-serif; text-anchor: start; padding: 0px; margin: 0px;\"><marker id=\"mermaidChart163_classDiagram-dependencyStart\" class=\"marker dependency classDiagram\" refX=\"6\" refY=\"7\" markerWidth=\"190\" markerHeight=\"240\" orient=\"auto\" style=\"background-color: rgba(0, 0, 0, 0); color: rgb(58, 71, 73); fill: rgb(51, 51, 51); stroke: rgb(51, 51, 51); stroke-width: 1px; opacity: 1; stroke-dasharray: none; font-size: 16px; font-family: sans-serif; text-anchor: start; padding: 0px; margin: 0px;\"><path d=\"M 5,7 L9,13 L1,7 L9,1 Z\" style=\"background-color: rgba(0, 0, 0, 0); color: rgb(58, 71, 73); fill: rgb(51, 51, 51); stroke: rgb(51, 51, 51); stroke-width: 1px; opacity: 1; stroke-dasharray: none; font-size: 16px; font-family: sans-serif; text-anchor: start; padding: 0px; margin: 0px;\"></path></marker></defs><defs style=\"background-color: rgba(0, 0, 0, 0); color: rgb(58, 71, 73); fill: rgb(58, 71, 73); stroke: none; stroke-width: 1px; opacity: 1; stroke-dasharray: none; font-size: 16px; font-family: sans-serif; text-anchor: start; padding: 0px; margin: 0px;\"><marker id=\"mermaidChart163_classDiagram-dependencyEnd\" class=\"marker dependency classDiagram\" refX=\"13\" refY=\"7\" markerWidth=\"20\" markerHeight=\"28\" orient=\"auto\" style=\"background-color: rgba(0, 0, 0, 0); color: rgb(58, 71, 73); fill: rgb(51, 51, 51); stroke: rgb(51, 51, 51); stroke-width: 1px; opacity: 1; stroke-dasharray: none; font-size: 16px; font-family: sans-serif; text-anchor: start; padding: 0px; margin: 0px;\"><path d=\"M 18,7 L9,13 L14,7 L9,1 Z\" style=\"background-color: rgba(0, 0, 0, 0); color: rgb(58, 71, 73); fill: rgb(51, 51, 51); stroke: rgb(51, 51, 51); stroke-width: 1px; opacity: 1; stroke-dasharray: none; font-size: 16px; font-family: sans-serif; text-anchor: start; padding: 0px; margin: 0px;\"></path></marker></defs><defs style=\"background-color: rgba(0, 0, 0, 0); color: rgb(58, 71, 73); fill: rgb(58, 71, 73); stroke: none; stroke-width: 1px; opacity: 1; stroke-dasharray: none; font-size: 16px; font-family: sans-serif; text-anchor: start; padding: 0px; margin: 0px;\"><marker id=\"mermaidChart163_classDiagram-lollipopStart\" class=\"marker lollipop classDiagram\" refX=\"13\" refY=\"7\" markerWidth=\"190\" markerHeight=\"240\" orient=\"auto\" style=\"background-color: rgba(0, 0, 0, 0); color: rgb(58, 71, 73); fill: rgb(236, 236, 255); stroke: rgb(51, 51, 51); stroke-width: 1px; opacity: 1; stroke-dasharray: none; font-size: 16px; font-family: sans-serif; text-anchor: start; padding: 0px; margin: 0px;\"><circle stroke=\"currentColor\" fill=\"transparent\" cx=\"7\" cy=\"7\" r=\"6\" style=\"background-color: rgba(0, 0, 0, 0); color: rgb(58, 71, 73); fill: rgba(0, 0, 0, 0); stroke: rgb(58, 71, 73); stroke-width: 1px; opacity: 1; stroke-dasharray: none; font-size: 16px; font-family: sans-serif; text-anchor: start; padding: 0px; margin: 0px;\"></circle></marker></defs><defs style=\"background-color: rgba(0, 0, 0, 0); color: rgb(58, 71, 73); fill: rgb(58, 71, 73); stroke: none; stroke-width: 1px; opacity: 1; stroke-dasharray: none; font-size: 16px; font-family: sans-serif; text-anchor: start; padding: 0px; margin: 0px;\"><marker id=\"mermaidChart163_classDiagram-lollipopEnd\" class=\"marker lollipop classDiagram\" refX=\"1\" refY=\"7\" markerWidth=\"190\" markerHeight=\"240\" orient=\"auto\" style=\"background-color: rgba(0, 0, 0, 0); color: rgb(58, 71, 73); fill: rgb(236, 236, 255); stroke: rgb(51, 51, 51); stroke-width: 1px; opacity: 1; stroke-dasharray: none; font-size: 16px; font-family: sans-serif; text-anchor: start; padding: 0px; margin: 0px;\"><circle stroke=\"currentColor\" fill=\"transparent\" cx=\"7\" cy=\"7\" r=\"6\" style=\"background-color: rgba(0, 0, 0, 0); color: rgb(58, 71, 73); fill: rgba(0, 0, 0, 0); stroke: rgb(58, 71, 73); stroke-width: 1px; opacity: 1; stroke-dasharray: none; font-size: 16px; font-family: sans-serif; text-anchor: start; padding: 0px; margin: 0px;\"></circle></marker></defs><g class=\"root\" style=\"background-color: rgba(0, 0, 0, 0); color: rgb(58, 71, 73); fill: rgb(58, 71, 73); stroke: none; stroke-width: 1px; opacity: 1; stroke-dasharray: none; font-size: 16px; font-family: sans-serif; text-anchor: start; padding: 0px; margin: 0px;\"><g class=\"clusters\" style=\"background-color: rgba(0, 0, 0, 0); color: rgb(58, 71, 73); fill: rgb(58, 71, 73); stroke: none; stroke-width: 1px; opacity: 1; stroke-dasharray: none; font-size: 16px; font-family: sans-serif; text-anchor: start; padding: 0px; margin: 0px;\"></g><g class=\"edgePaths\" style=\"background-color: rgba(0, 0, 0, 0); color: rgb(58, 71, 73); fill: rgb(58, 71, 73); stroke: none; stroke-width: 1px; opacity: 1; stroke-dasharray: none; font-size: 16px; font-family: sans-serif; text-anchor: start; padding: 0px; margin: 0px;\"><path d=\"M337.716,92.94L298.053,103.58C258.389,114.22,179.062,135.501,139.398,155.24C99.734,174.979,99.734,193.177,99.734,202.276L99.734,211.375\" id=\"id_PricePrediction_VeryHighImportance_1\" class=\"  edge-pattern-solid relation\" style=\"fill: none; background-color: rgba(0, 0, 0, 0); color: rgb(58, 71, 73); stroke: rgb(51, 51, 51); stroke-width: 1px; opacity: 1; stroke-dasharray: 0px; font-size: 16px; font-family: sans-serif; text-anchor: start; padding: 0px; margin: 0px;\" marker-start=\"url(#mermaidChart163_classDiagram-extensionStart)\"></path><path d=\"M341.048,135.983L336.716,139.449C332.384,142.916,323.721,149.848,319.389,157.482C315.057,165.115,315.057,173.448,315.057,177.615L315.057,181.781\" id=\"id_PricePrediction_HighImportance_2\" class=\"  edge-pattern-solid relation\" style=\"fill: none; background-color: rgba(0, 0, 0, 0); color: rgb(58, 71, 73); stroke: rgb(51, 51, 51); stroke-width: 1px; opacity: 1; stroke-dasharray: 0px; font-size: 16px; font-family: sans-serif; text-anchor: start; padding: 0px; margin: 0px;\" marker-start=\"url(#mermaidChart163_classDiagram-extensionStart)\"></path><path d=\"M506.228,135.983L510.56,139.449C514.892,142.916,523.555,149.848,527.887,159.948C532.219,170.047,532.219,183.313,532.219,189.945L532.219,196.578\" id=\"id_PricePrediction_ModerateImportance_3\" class=\"  edge-pattern-solid relation\" style=\"fill: none; background-color: rgba(0, 0, 0, 0); color: rgb(58, 71, 73); stroke: rgb(51, 51, 51); stroke-width: 1px; opacity: 1; stroke-dasharray: 0px; font-size: 16px; font-family: sans-serif; text-anchor: start; padding: 0px; margin: 0px;\" marker-start=\"url(#mermaidChart163_classDiagram-extensionStart)\"></path><path d=\"M509.565,92.835L549.48,103.492C589.394,114.15,669.223,135.466,709.138,162.621C749.052,189.776,749.052,222.771,749.052,239.268L749.052,255.766\" id=\"id_PricePrediction_LowImportance_4\" class=\"  edge-pattern-solid relation\" style=\"fill: none; background-color: rgba(0, 0, 0, 0); color: rgb(58, 71, 73); stroke: rgb(51, 51, 51); stroke-width: 1px; opacity: 1; stroke-dasharray: 0px; font-size: 16px; font-family: sans-serif; text-anchor: start; padding: 0px; margin: 0px;\" marker-start=\"url(#mermaidChart163_classDiagram-extensionStart)\"></path></g><g class=\"edgeLabels\" style=\"background-color: rgba(0, 0, 0, 0); color: rgb(58, 71, 73); fill: rgb(58, 71, 73); stroke: none; stroke-width: 1px; opacity: 1; stroke-dasharray: none; font-size: 16px; font-family: sans-serif; text-anchor: start; padding: 0px; margin: 0px;\"><g class=\"edgeLabel\" style=\"background-color: rgba(0, 0, 0, 0); color: rgb(19, 19, 0); fill: rgb(58, 71, 73); stroke: none; stroke-width: 1px; opacity: 1; stroke-dasharray: none; font-size: 16px; font-family: sans-serif; text-anchor: start; padding: 0px; margin: 0px;\"><g class=\"label\" transform=\"translate(0, 0)\" style=\"background-color: rgba(0, 0, 0, 0); color: rgb(19, 19, 0); fill: rgb(58, 71, 73); stroke: none; stroke-width: 1px; opacity: 1; stroke-dasharray: none; font-size: 16px; font-family: sans-serif; text-anchor: start; padding: 0px; margin: 0px;\"><foreignObject width=\"0\" height=\"0\" style=\"background-color: rgba(0, 0, 0, 0); color: rgb(19, 19, 0); fill: rgb(58, 71, 73); stroke: none; stroke-width: 1px; opacity: 1; stroke-dasharray: none; font-size: 16px; font-family: sans-serif; text-anchor: start; padding: 0px; margin: 0px;\"><div xmlns=\"http://www.w3.org/1999/xhtml\" style=\"display: inline-block; white-space: nowrap; background-color: rgba(0, 0, 0, 0); color: rgb(19, 19, 0); fill: rgb(58, 71, 73); stroke: none; stroke-width: 1px; opacity: 1; stroke-dasharray: none; font-size: 16px; font-family: sans-serif; text-anchor: start; padding: 0px; margin: 0px;\"><span class=\"edgeLabel\" style=\"background-color: rgb(236, 236, 255); color: rgb(19, 19, 0); fill: rgb(58, 71, 73); stroke: none; stroke-width: 1px; opacity: 1; stroke-dasharray: none; font-size: 16px; font-family: sans-serif; text-anchor: start; padding: 0px; margin: 0px;\"></span></div></foreignObject></g></g><g class=\"edgeLabel\" style=\"background-color: rgba(0, 0, 0, 0); color: rgb(19, 19, 0); fill: rgb(58, 71, 73); stroke: none; stroke-width: 1px; opacity: 1; stroke-dasharray: none; font-size: 16px; font-family: sans-serif; text-anchor: start; padding: 0px; margin: 0px;\"><g class=\"label\" transform=\"translate(0, 0)\" style=\"background-color: rgba(0, 0, 0, 0); color: rgb(19, 19, 0); fill: rgb(58, 71, 73); stroke: none; stroke-width: 1px; opacity: 1; stroke-dasharray: none; font-size: 16px; font-family: sans-serif; text-anchor: start; padding: 0px; margin: 0px;\"><foreignObject width=\"0\" height=\"0\" style=\"background-color: rgba(0, 0, 0, 0); color: rgb(19, 19, 0); fill: rgb(58, 71, 73); stroke: none; stroke-width: 1px; opacity: 1; stroke-dasharray: none; font-size: 16px; font-family: sans-serif; text-anchor: start; padding: 0px; margin: 0px;\"><div xmlns=\"http://www.w3.org/1999/xhtml\" style=\"display: inline-block; white-space: nowrap; background-color: rgba(0, 0, 0, 0); color: rgb(19, 19, 0); fill: rgb(58, 71, 73); stroke: none; stroke-width: 1px; opacity: 1; stroke-dasharray: none; font-size: 16px; font-family: sans-serif; text-anchor: start; padding: 0px; margin: 0px;\"><span class=\"edgeLabel\" style=\"background-color: rgb(236, 236, 255); color: rgb(19, 19, 0); fill: rgb(58, 71, 73); stroke: none; stroke-width: 1px; opacity: 1; stroke-dasharray: none; font-size: 16px; font-family: sans-serif; text-anchor: start; padding: 0px; margin: 0px;\"></span></div></foreignObject></g></g><g class=\"edgeLabel\" style=\"background-color: rgba(0, 0, 0, 0); color: rgb(19, 19, 0); fill: rgb(58, 71, 73); stroke: none; stroke-width: 1px; opacity: 1; stroke-dasharray: none; font-size: 16px; font-family: sans-serif; text-anchor: start; padding: 0px; margin: 0px;\"><g class=\"label\" transform=\"translate(0, 0)\" style=\"background-color: rgba(0, 0, 0, 0); color: rgb(19, 19, 0); fill: rgb(58, 71, 73); stroke: none; stroke-width: 1px; opacity: 1; stroke-dasharray: none; font-size: 16px; font-family: sans-serif; text-anchor: start; padding: 0px; margin: 0px;\"><foreignObject width=\"0\" height=\"0\" style=\"background-color: rgba(0, 0, 0, 0); color: rgb(19, 19, 0); fill: rgb(58, 71, 73); stroke: none; stroke-width: 1px; opacity: 1; stroke-dasharray: none; font-size: 16px; font-family: sans-serif; text-anchor: start; padding: 0px; margin: 0px;\"><div xmlns=\"http://www.w3.org/1999/xhtml\" style=\"display: inline-block; white-space: nowrap; background-color: rgba(0, 0, 0, 0); color: rgb(19, 19, 0); fill: rgb(58, 71, 73); stroke: none; stroke-width: 1px; opacity: 1; stroke-dasharray: none; font-size: 16px; font-family: sans-serif; text-anchor: start; padding: 0px; margin: 0px;\"><span class=\"edgeLabel\" style=\"background-color: rgb(236, 236, 255); color: rgb(19, 19, 0); fill: rgb(58, 71, 73); stroke: none; stroke-width: 1px; opacity: 1; stroke-dasharray: none; font-size: 16px; font-family: sans-serif; text-anchor: start; padding: 0px; margin: 0px;\"></span></div></foreignObject></g></g><g class=\"edgeLabel\" style=\"background-color: rgba(0, 0, 0, 0); color: rgb(19, 19, 0); fill: rgb(58, 71, 73); stroke: none; stroke-width: 1px; opacity: 1; stroke-dasharray: none; font-size: 16px; font-family: sans-serif; text-anchor: start; padding: 0px; margin: 0px;\"><g class=\"label\" transform=\"translate(0, 0)\" style=\"background-color: rgba(0, 0, 0, 0); color: rgb(19, 19, 0); fill: rgb(58, 71, 73); stroke: none; stroke-width: 1px; opacity: 1; stroke-dasharray: none; font-size: 16px; font-family: sans-serif; text-anchor: start; padding: 0px; margin: 0px;\"><foreignObject width=\"0\" height=\"0\" style=\"background-color: rgba(0, 0, 0, 0); color: rgb(19, 19, 0); fill: rgb(58, 71, 73); stroke: none; stroke-width: 1px; opacity: 1; stroke-dasharray: none; font-size: 16px; font-family: sans-serif; text-anchor: start; padding: 0px; margin: 0px;\"><div xmlns=\"http://www.w3.org/1999/xhtml\" style=\"display: inline-block; white-space: nowrap; background-color: rgba(0, 0, 0, 0); color: rgb(19, 19, 0); fill: rgb(58, 71, 73); stroke: none; stroke-width: 1px; opacity: 1; stroke-dasharray: none; font-size: 16px; font-family: sans-serif; text-anchor: start; padding: 0px; margin: 0px;\"><span class=\"edgeLabel\" style=\"background-color: rgb(236, 236, 255); color: rgb(19, 19, 0); fill: rgb(58, 71, 73); stroke: none; stroke-width: 1px; opacity: 1; stroke-dasharray: none; font-size: 16px; font-family: sans-serif; text-anchor: start; padding: 0px; margin: 0px;\"></span></div></foreignObject></g></g></g><g class=\"nodes\" style=\"background-color: rgba(0, 0, 0, 0); color: rgb(58, 71, 73); fill: rgb(58, 71, 73); stroke: none; stroke-width: 1px; opacity: 1; stroke-dasharray: none; font-size: 16px; font-family: sans-serif; text-anchor: start; padding: 0px; margin: 0px;\"><g class=\"node default\" id=\"classId-PricePrediction-825\" data-node=\"true\" data-id=\"PricePrediction\" transform=\"translate(423.6380271911621, 69.890625)\" style=\"background-color: rgba(0, 0, 0, 0); color: rgb(58, 71, 73); fill: rgb(58, 71, 73); stroke: none; stroke-width: 1px; opacity: 1; stroke-dasharray: none; font-size: 16px; font-family: sans-serif; text-anchor: start; padding: 0px; margin: 0px;\"><rect style=\"background-color: rgba(0, 0, 0, 0); color: rgb(58, 71, 73); fill: rgb(236, 236, 255); stroke: rgb(147, 112, 219); stroke-width: 1px; opacity: 1; stroke-dasharray: none; font-size: 16px; font-family: sans-serif; text-anchor: start; padding: 0px; margin: 0px;\" class=\"outer title-state\" x=\"-68.53646087646484\" y=\"-61.890625\" width=\"137.0729217529297\" height=\"123.78125\"></rect><line class=\"divider\" x1=\"-68.53646087646484\" x2=\"68.53646087646484\" y1=\"-24.296875\" y2=\"-24.296875\" style=\"background-color: rgba(0, 0, 0, 0); color: rgb(58, 71, 73); fill: rgb(58, 71, 73); stroke: rgb(147, 112, 219); stroke-width: 1px; opacity: 1; stroke-dasharray: none; font-size: 16px; font-family: sans-serif; text-anchor: start; padding: 0px; margin: 0px;\"></line><line class=\"divider\" x1=\"-68.53646087646484\" x2=\"68.53646087646484\" y1=\"50.890625\" y2=\"50.890625\" style=\"background-color: rgba(0, 0, 0, 0); color: rgb(58, 71, 73); fill: rgb(58, 71, 73); stroke: rgb(147, 112, 219); stroke-width: 1px; opacity: 1; stroke-dasharray: none; font-size: 16px; font-family: sans-serif; text-anchor: start; padding: 0px; margin: 0px;\"></line><g class=\"label\" style=\"background-color: rgba(0, 0, 0, 0); color: rgb(58, 71, 73); fill: rgb(58, 71, 73); stroke: none; stroke-width: 1px; opacity: 1; stroke-dasharray: none; font-size: 16px; font-family: sans-serif; text-anchor: start; padding: 0px; margin: 0px;\"><foreignObject width=\"0\" height=\"0\" style=\"background-color: rgba(0, 0, 0, 0); color: rgb(58, 71, 73); fill: rgb(58, 71, 73); stroke: none; stroke-width: 1px; opacity: 1; stroke-dasharray: none; font-size: 16px; font-family: sans-serif; text-anchor: start; padding: 0px; margin: 0px;\"><div xmlns=\"http://www.w3.org/1999/xhtml\" style=\"display: inline-block; white-space: nowrap; background-color: rgba(0, 0, 0, 0); color: rgb(58, 71, 73); fill: rgb(58, 71, 73); stroke: none; stroke-width: 1px; opacity: 1; stroke-dasharray: none; font-size: 16px; font-family: sans-serif; text-anchor: start; padding: 0px; margin: 0px;\"><span class=\"nodeLabel\" style=\"background-color: rgba(0, 0, 0, 0); color: rgb(19, 19, 0); fill: rgb(58, 71, 73); stroke: none; stroke-width: 1px; opacity: 1; stroke-dasharray: none; font-size: 16px; font-family: sans-serif; text-anchor: start; padding: 0px; margin: 0px;\"></span></div></foreignObject><foreignObject class=\"classTitle\" width=\"122.07292175292969\" height=\"25.59375\" transform=\"translate( -61.036460876464844, -54.390625)\" style=\"background-color: rgba(0, 0, 0, 0); color: rgb(58, 71, 73); fill: rgb(58, 71, 73); stroke: none; stroke-width: 1px; opacity: 1; stroke-dasharray: none; font-size: 16px; font-family: sans-serif; text-anchor: start; padding: 0px; margin: 0px;\"><div xmlns=\"http://www.w3.org/1999/xhtml\" style=\"display: inline-block; white-space: nowrap; background-color: rgba(0, 0, 0, 0); color: rgb(58, 71, 73); fill: rgb(58, 71, 73); stroke: none; stroke-width: 1px; opacity: 1; stroke-dasharray: none; font-size: 16px; font-family: sans-serif; text-anchor: start; padding: 0px; margin: 0px;\"><span class=\"nodeLabel\" style=\"background-color: rgba(0, 0, 0, 0); color: rgb(19, 19, 0); fill: rgb(58, 71, 73); stroke: none; stroke-width: 1px; opacity: 1; stroke-dasharray: none; font-size: 16px; font-family: sans-serif; text-anchor: start; padding: 0px; margin: 0px;\">PricePrediction</span></div></foreignObject><foreignObject width=\"62.71875\" height=\"25.59375\" transform=\"translate( -61.036460876464844, -12.796875)\" style=\"background-color: rgba(0, 0, 0, 0); color: rgb(58, 71, 73); fill: rgb(58, 71, 73); stroke: none; stroke-width: 1px; opacity: 1; stroke-dasharray: none; font-size: 16px; font-family: sans-serif; text-anchor: start; padding: 0px; margin: 0px;\"><div xmlns=\"http://www.w3.org/1999/xhtml\" style=\"display: inline-block; white-space: nowrap; background-color: rgba(0, 0, 0, 0); color: rgb(58, 71, 73); fill: rgb(58, 71, 73); stroke: none; stroke-width: 1px; opacity: 1; stroke-dasharray: none; font-size: 16px; font-family: sans-serif; text-anchor: start; padding: 0px; margin: 0px;\"><span class=\"nodeLabel\" style=\"background-color: rgba(0, 0, 0, 0); color: rgb(19, 19, 0); fill: rgb(58, 71, 73); stroke: none; stroke-width: 1px; opacity: 1; stroke-dasharray: none; font-size: 16px; font-family: sans-serif; text-anchor: start; padding: 0px; margin: 0px;\">train.csv</span></div></foreignObject><foreignObject width=\"55.958335876464844\" height=\"25.59375\" transform=\"translate( -61.036460876464844, 16.796875)\" style=\"background-color: rgba(0, 0, 0, 0); color: rgb(58, 71, 73); fill: rgb(58, 71, 73); stroke: none; stroke-width: 1px; opacity: 1; stroke-dasharray: none; font-size: 16px; font-family: sans-serif; text-anchor: start; padding: 0px; margin: 0px;\"><div xmlns=\"http://www.w3.org/1999/xhtml\" style=\"display: inline-block; white-space: nowrap; background-color: rgba(0, 0, 0, 0); color: rgb(58, 71, 73); fill: rgb(58, 71, 73); stroke: none; stroke-width: 1px; opacity: 1; stroke-dasharray: none; font-size: 16px; font-family: sans-serif; text-anchor: start; padding: 0px; margin: 0px;\"><span class=\"nodeLabel\" style=\"background-color: rgba(0, 0, 0, 0); color: rgb(19, 19, 0); fill: rgb(58, 71, 73); stroke: none; stroke-width: 1px; opacity: 1; stroke-dasharray: none; font-size: 16px; font-family: sans-serif; text-anchor: start; padding: 0px; margin: 0px;\">test.csv</span></div></foreignObject></g></g><g class=\"node default\" id=\"classId-VeryHighImportance-826\" data-node=\"true\" data-id=\"VeryHighImportance\" transform=\"translate(99.734375, 347.25)\" style=\"background-color: rgba(0, 0, 0, 0); color: rgb(58, 71, 73); fill: rgb(58, 71, 73); stroke: none; stroke-width: 1px; opacity: 1; stroke-dasharray: none; font-size: 16px; font-family: sans-serif; text-anchor: start; padding: 0px; margin: 0px;\"><rect style=\"background-color: rgba(0, 0, 0, 0); color: rgb(58, 71, 73); fill: rgb(236, 236, 255); stroke: rgb(147, 112, 219); stroke-width: 1px; opacity: 1; stroke-dasharray: none; font-size: 16px; font-family: sans-serif; text-anchor: start; padding: 0px; margin: 0px;\" class=\"outer title-state\" x=\"-91.734375\" y=\"-135.875\" width=\"183.46875\" height=\"271.75\"></rect><line class=\"divider\" x1=\"-91.734375\" x2=\"91.734375\" y1=\"-98.28125\" y2=\"-98.28125\" style=\"background-color: rgba(0, 0, 0, 0); color: rgb(58, 71, 73); fill: rgb(58, 71, 73); stroke: rgb(147, 112, 219); stroke-width: 1px; opacity: 1; stroke-dasharray: none; font-size: 16px; font-family: sans-serif; text-anchor: start; padding: 0px; margin: 0px;\"></line><line class=\"divider\" x1=\"-91.734375\" x2=\"91.734375\" y1=\"95.28125\" y2=\"95.28125\" style=\"background-color: rgba(0, 0, 0, 0); color: rgb(58, 71, 73); fill: rgb(58, 71, 73); stroke: rgb(147, 112, 219); stroke-width: 1px; opacity: 1; stroke-dasharray: none; font-size: 16px; font-family: sans-serif; text-anchor: start; padding: 0px; margin: 0px;\"></line><g class=\"label\" style=\"background-color: rgba(0, 0, 0, 0); color: rgb(58, 71, 73); fill: rgb(58, 71, 73); stroke: none; stroke-width: 1px; opacity: 1; stroke-dasharray: none; font-size: 16px; font-family: sans-serif; text-anchor: start; padding: 0px; margin: 0px;\"><foreignObject width=\"0\" height=\"0\" style=\"background-color: rgba(0, 0, 0, 0); color: rgb(58, 71, 73); fill: rgb(58, 71, 73); stroke: none; stroke-width: 1px; opacity: 1; stroke-dasharray: none; font-size: 16px; font-family: sans-serif; text-anchor: start; padding: 0px; margin: 0px;\"><div xmlns=\"http://www.w3.org/1999/xhtml\" style=\"display: inline-block; white-space: nowrap; background-color: rgba(0, 0, 0, 0); color: rgb(58, 71, 73); fill: rgb(58, 71, 73); stroke: none; stroke-width: 1px; opacity: 1; stroke-dasharray: none; font-size: 16px; font-family: sans-serif; text-anchor: start; padding: 0px; margin: 0px;\"><span class=\"nodeLabel\" style=\"background-color: rgba(0, 0, 0, 0); color: rgb(19, 19, 0); fill: rgb(58, 71, 73); stroke: none; stroke-width: 1px; opacity: 1; stroke-dasharray: none; font-size: 16px; font-family: sans-serif; text-anchor: start; padding: 0px; margin: 0px;\"></span></div></foreignObject><foreignObject class=\"classTitle\" width=\"168.46875\" height=\"25.59375\" transform=\"translate( -84.234375, -128.375)\" style=\"background-color: rgba(0, 0, 0, 0); color: rgb(58, 71, 73); fill: rgb(58, 71, 73); stroke: none; stroke-width: 1px; opacity: 1; stroke-dasharray: none; font-size: 16px; font-family: sans-serif; text-anchor: start; padding: 0px; margin: 0px;\"><div xmlns=\"http://www.w3.org/1999/xhtml\" style=\"display: inline-block; white-space: nowrap; background-color: rgba(0, 0, 0, 0); color: rgb(58, 71, 73); fill: rgb(58, 71, 73); stroke: none; stroke-width: 1px; opacity: 1; stroke-dasharray: none; font-size: 16px; font-family: sans-serif; text-anchor: start; padding: 0px; margin: 0px;\"><span class=\"nodeLabel\" style=\"background-color: rgba(0, 0, 0, 0); color: rgb(19, 19, 0); fill: rgb(58, 71, 73); stroke: none; stroke-width: 1px; opacity: 1; stroke-dasharray: none; font-size: 16px; font-family: sans-serif; text-anchor: start; padding: 0px; margin: 0px;\">VeryHighImportance</span></div></foreignObject><foreignObject width=\"41.28125\" height=\"25.59375\" transform=\"translate( -84.234375, -86.78125)\" style=\"background-color: rgba(0, 0, 0, 0); color: rgb(58, 71, 73); fill: rgb(58, 71, 73); stroke: none; stroke-width: 1px; opacity: 1; stroke-dasharray: none; font-size: 16px; font-family: sans-serif; text-anchor: start; padding: 0px; margin: 0px;\"><div xmlns=\"http://www.w3.org/1999/xhtml\" style=\"display: inline-block; white-space: nowrap; background-color: rgba(0, 0, 0, 0); color: rgb(58, 71, 73); fill: rgb(58, 71, 73); stroke: none; stroke-width: 1px; opacity: 1; stroke-dasharray: none; font-size: 16px; font-family: sans-serif; text-anchor: start; padding: 0px; margin: 0px;\"><span class=\"nodeLabel\" style=\"background-color: rgba(0, 0, 0, 0); color: rgb(19, 19, 0); fill: rgb(58, 71, 73); stroke: none; stroke-width: 1px; opacity: 1; stroke-dasharray: none; font-size: 16px; font-family: sans-serif; text-anchor: start; padding: 0px; margin: 0px;\">make</span></div></foreignObject><foreignObject width=\"48.739585876464844\" height=\"25.59375\" transform=\"translate( -84.234375, -57.1875)\" style=\"background-color: rgba(0, 0, 0, 0); color: rgb(58, 71, 73); fill: rgb(58, 71, 73); stroke: none; stroke-width: 1px; opacity: 1; stroke-dasharray: none; font-size: 16px; font-family: sans-serif; text-anchor: start; padding: 0px; margin: 0px;\"><div xmlns=\"http://www.w3.org/1999/xhtml\" style=\"display: inline-block; white-space: nowrap; background-color: rgba(0, 0, 0, 0); color: rgb(58, 71, 73); fill: rgb(58, 71, 73); stroke: none; stroke-width: 1px; opacity: 1; stroke-dasharray: none; font-size: 16px; font-family: sans-serif; text-anchor: start; padding: 0px; margin: 0px;\"><span class=\"nodeLabel\" style=\"background-color: rgba(0, 0, 0, 0); color: rgb(19, 19, 0); fill: rgb(58, 71, 73); stroke: none; stroke-width: 1px; opacity: 1; stroke-dasharray: none; font-size: 16px; font-family: sans-serif; text-anchor: start; padding: 0px; margin: 0px;\">model</span></div></foreignObject><foreignObject width=\"106.98958587646484\" height=\"25.59375\" transform=\"translate( -84.234375, -27.59375)\" style=\"background-color: rgba(0, 0, 0, 0); color: rgb(58, 71, 73); fill: rgb(58, 71, 73); stroke: none; stroke-width: 1px; opacity: 1; stroke-dasharray: none; font-size: 16px; font-family: sans-serif; text-anchor: start; padding: 0px; margin: 0px;\"><div xmlns=\"http://www.w3.org/1999/xhtml\" style=\"display: inline-block; white-space: nowrap; background-color: rgba(0, 0, 0, 0); color: rgb(58, 71, 73); fill: rgb(58, 71, 73); stroke: none; stroke-width: 1px; opacity: 1; stroke-dasharray: none; font-size: 16px; font-family: sans-serif; text-anchor: start; padding: 0px; margin: 0px;\"><span class=\"nodeLabel\" style=\"background-color: rgba(0, 0, 0, 0); color: rgb(19, 19, 0); fill: rgb(58, 71, 73); stroke: none; stroke-width: 1px; opacity: 1; stroke-dasharray: none; font-size: 16px; font-family: sans-serif; text-anchor: start; padding: 0px; margin: 0px;\">manufactured</span></div></foreignObject><foreignObject width=\"27.28125\" height=\"25.59375\" transform=\"translate( -84.234375, 2)\" style=\"background-color: rgba(0, 0, 0, 0); color: rgb(58, 71, 73); fill: rgb(58, 71, 73); stroke: none; stroke-width: 1px; opacity: 1; stroke-dasharray: none; font-size: 16px; font-family: sans-serif; text-anchor: start; padding: 0px; margin: 0px;\"><div xmlns=\"http://www.w3.org/1999/xhtml\" style=\"display: inline-block; white-space: nowrap; background-color: rgba(0, 0, 0, 0); color: rgb(58, 71, 73); fill: rgb(58, 71, 73); stroke: none; stroke-width: 1px; opacity: 1; stroke-dasharray: none; font-size: 16px; font-family: sans-serif; text-anchor: start; padding: 0px; margin: 0px;\"><span class=\"nodeLabel\" style=\"background-color: rgba(0, 0, 0, 0); color: rgb(19, 19, 0); fill: rgb(58, 71, 73); stroke: none; stroke-width: 1px; opacity: 1; stroke-dasharray: none; font-size: 16px; font-family: sans-serif; text-anchor: start; padding: 0px; margin: 0px;\">coe</span></div></foreignObject><foreignObject width=\"33.5625\" height=\"25.59375\" transform=\"translate( -84.234375, 31.59375)\" style=\"background-color: rgba(0, 0, 0, 0); color: rgb(58, 71, 73); fill: rgb(58, 71, 73); stroke: none; stroke-width: 1px; opacity: 1; stroke-dasharray: none; font-size: 16px; font-family: sans-serif; text-anchor: start; padding: 0px; margin: 0px;\"><div xmlns=\"http://www.w3.org/1999/xhtml\" style=\"display: inline-block; white-space: nowrap; background-color: rgba(0, 0, 0, 0); color: rgb(58, 71, 73); fill: rgb(58, 71, 73); stroke: none; stroke-width: 1px; opacity: 1; stroke-dasharray: none; font-size: 16px; font-family: sans-serif; text-anchor: start; padding: 0px; margin: 0px;\"><span class=\"nodeLabel\" style=\"background-color: rgba(0, 0, 0, 0); color: rgb(19, 19, 0); fill: rgb(58, 71, 73); stroke: none; stroke-width: 1px; opacity: 1; stroke-dasharray: none; font-size: 16px; font-family: sans-serif; text-anchor: start; padding: 0px; margin: 0px;\">omv</span></div></foreignObject><foreignObject width=\"20.83333396911621\" height=\"25.59375\" transform=\"translate( -84.234375, 61.1875)\" style=\"background-color: rgba(0, 0, 0, 0); color: rgb(58, 71, 73); fill: rgb(58, 71, 73); stroke: none; stroke-width: 1px; opacity: 1; stroke-dasharray: none; font-size: 16px; font-family: sans-serif; text-anchor: start; padding: 0px; margin: 0px;\"><div xmlns=\"http://www.w3.org/1999/xhtml\" style=\"display: inline-block; white-space: nowrap; background-color: rgba(0, 0, 0, 0); color: rgb(58, 71, 73); fill: rgb(58, 71, 73); stroke: none; stroke-width: 1px; opacity: 1; stroke-dasharray: none; font-size: 16px; font-family: sans-serif; text-anchor: start; padding: 0px; margin: 0px;\"><span class=\"nodeLabel\" style=\"background-color: rgba(0, 0, 0, 0); color: rgb(19, 19, 0); fill: rgb(58, 71, 73); stroke: none; stroke-width: 1px; opacity: 1; stroke-dasharray: none; font-size: 16px; font-family: sans-serif; text-anchor: start; padding: 0px; margin: 0px;\">arf</span></div></foreignObject><foreignObject width=\"94.34375\" height=\"25.59375\" transform=\"translate( -84.234375, 102.78125)\" style=\"background-color: rgba(0, 0, 0, 0); color: rgb(58, 71, 73); fill: rgb(58, 71, 73); stroke: none; stroke-width: 1px; opacity: 1; stroke-dasharray: none; font-size: 16px; font-family: sans-serif; text-anchor: start; padding: 0px; margin: 0px;\"><div xmlns=\"http://www.w3.org/1999/xhtml\" style=\"display: inline-block; white-space: nowrap; background-color: rgba(0, 0, 0, 0); color: rgb(58, 71, 73); fill: rgb(58, 71, 73); stroke: none; stroke-width: 1px; opacity: 1; stroke-dasharray: none; font-size: 16px; font-family: sans-serif; text-anchor: start; padding: 0px; margin: 0px;\"><span class=\"nodeLabel\" style=\"background-color: rgba(0, 0, 0, 0); color: rgb(19, 19, 0); fill: rgb(58, 71, 73); stroke: none; stroke-width: 1px; opacity: 1; stroke-dasharray: none; font-size: 16px; font-family: sans-serif; text-anchor: start; padding: 0px; margin: 0px;\">price(target)</span></div></foreignObject></g></g><g class=\"node default\" id=\"classId-HighImportance-827\" data-node=\"true\" data-id=\"HighImportance\" transform=\"translate(315.0572967529297, 347.25)\" style=\"background-color: rgba(0, 0, 0, 0); color: rgb(58, 71, 73); fill: rgb(58, 71, 73); stroke: none; stroke-width: 1px; opacity: 1; stroke-dasharray: none; font-size: 16px; font-family: sans-serif; text-anchor: start; padding: 0px; margin: 0px;\"><rect style=\"background-color: rgba(0, 0, 0, 0); color: rgb(58, 71, 73); fill: rgb(236, 236, 255); stroke: rgb(147, 112, 219); stroke-width: 1px; opacity: 1; stroke-dasharray: none; font-size: 16px; font-family: sans-serif; text-anchor: start; padding: 0px; margin: 0px;\" class=\"outer title-state\" x=\"-73.58854675292969\" y=\"-165.46875\" width=\"147.17709350585938\" height=\"330.9375\"></rect><line class=\"divider\" x1=\"-73.58854675292969\" x2=\"73.58854675292969\" y1=\"-127.875\" y2=\"-127.875\" style=\"background-color: rgba(0, 0, 0, 0); color: rgb(58, 71, 73); fill: rgb(58, 71, 73); stroke: rgb(147, 112, 219); stroke-width: 1px; opacity: 1; stroke-dasharray: none; font-size: 16px; font-family: sans-serif; text-anchor: start; padding: 0px; margin: 0px;\"></line><line class=\"divider\" x1=\"-73.58854675292969\" x2=\"73.58854675292969\" y1=\"154.46875\" y2=\"154.46875\" style=\"background-color: rgba(0, 0, 0, 0); color: rgb(58, 71, 73); fill: rgb(58, 71, 73); stroke: rgb(147, 112, 219); stroke-width: 1px; opacity: 1; stroke-dasharray: none; font-size: 16px; font-family: sans-serif; text-anchor: start; padding: 0px; margin: 0px;\"></line><g class=\"label\" style=\"background-color: rgba(0, 0, 0, 0); color: rgb(58, 71, 73); fill: rgb(58, 71, 73); stroke: none; stroke-width: 1px; opacity: 1; stroke-dasharray: none; font-size: 16px; font-family: sans-serif; text-anchor: start; padding: 0px; margin: 0px;\"><foreignObject width=\"0\" height=\"0\" style=\"background-color: rgba(0, 0, 0, 0); color: rgb(58, 71, 73); fill: rgb(58, 71, 73); stroke: none; stroke-width: 1px; opacity: 1; stroke-dasharray: none; font-size: 16px; font-family: sans-serif; text-anchor: start; padding: 0px; margin: 0px;\"><div xmlns=\"http://www.w3.org/1999/xhtml\" style=\"display: inline-block; white-space: nowrap; background-color: rgba(0, 0, 0, 0); color: rgb(58, 71, 73); fill: rgb(58, 71, 73); stroke: none; stroke-width: 1px; opacity: 1; stroke-dasharray: none; font-size: 16px; font-family: sans-serif; text-anchor: start; padding: 0px; margin: 0px;\"><span class=\"nodeLabel\" style=\"background-color: rgba(0, 0, 0, 0); color: rgb(19, 19, 0); fill: rgb(58, 71, 73); stroke: none; stroke-width: 1px; opacity: 1; stroke-dasharray: none; font-size: 16px; font-family: sans-serif; text-anchor: start; padding: 0px; margin: 0px;\"></span></div></foreignObject><foreignObject class=\"classTitle\" width=\"132.17709350585938\" height=\"25.59375\" transform=\"translate( -66.08854675292969, -157.96875)\" style=\"background-color: rgba(0, 0, 0, 0); color: rgb(58, 71, 73); fill: rgb(58, 71, 73); stroke: none; stroke-width: 1px; opacity: 1; stroke-dasharray: none; font-size: 16px; font-family: sans-serif; text-anchor: start; padding: 0px; margin: 0px;\"><div xmlns=\"http://www.w3.org/1999/xhtml\" style=\"display: inline-block; white-space: nowrap; background-color: rgba(0, 0, 0, 0); color: rgb(58, 71, 73); fill: rgb(58, 71, 73); stroke: none; stroke-width: 1px; opacity: 1; stroke-dasharray: none; font-size: 16px; font-family: sans-serif; text-anchor: start; padding: 0px; margin: 0px;\"><span class=\"nodeLabel\" style=\"background-color: rgba(0, 0, 0, 0); color: rgb(19, 19, 0); fill: rgb(58, 71, 73); stroke: none; stroke-width: 1px; opacity: 1; stroke-dasharray: none; font-size: 16px; font-family: sans-serif; text-anchor: start; padding: 0px; margin: 0px;\">HighImportance</span></div></foreignObject><foreignObject width=\"66.35417175292969\" height=\"25.59375\" transform=\"translate( -66.08854675292969, -116.375)\" style=\"background-color: rgba(0, 0, 0, 0); color: rgb(58, 71, 73); fill: rgb(58, 71, 73); stroke: none; stroke-width: 1px; opacity: 1; stroke-dasharray: none; font-size: 16px; font-family: sans-serif; text-anchor: start; padding: 0px; margin: 0px;\"><div xmlns=\"http://www.w3.org/1999/xhtml\" style=\"display: inline-block; white-space: nowrap; background-color: rgba(0, 0, 0, 0); color: rgb(58, 71, 73); fill: rgb(58, 71, 73); stroke: none; stroke-width: 1px; opacity: 1; stroke-dasharray: none; font-size: 16px; font-family: sans-serif; text-anchor: start; padding: 0px; margin: 0px;\"><span class=\"nodeLabel\" style=\"background-color: rgba(0, 0, 0, 0); color: rgb(19, 19, 0); fill: rgb(58, 71, 73); stroke: none; stroke-width: 1px; opacity: 1; stroke-dasharray: none; font-size: 16px; font-family: sans-serif; text-anchor: start; padding: 0px; margin: 0px;\">reg_date</span></div></foreignObject><foreignObject width=\"116.32292175292969\" height=\"25.59375\" transform=\"translate( -66.08854675292969, -86.78125)\" style=\"background-color: rgba(0, 0, 0, 0); color: rgb(58, 71, 73); fill: rgb(58, 71, 73); stroke: none; stroke-width: 1px; opacity: 1; stroke-dasharray: none; font-size: 16px; font-family: sans-serif; text-anchor: start; padding: 0px; margin: 0px;\"><div xmlns=\"http://www.w3.org/1999/xhtml\" style=\"display: inline-block; white-space: nowrap; background-color: rgba(0, 0, 0, 0); color: rgb(58, 71, 73); fill: rgb(58, 71, 73); stroke: none; stroke-width: 1px; opacity: 1; stroke-dasharray: none; font-size: 16px; font-family: sans-serif; text-anchor: start; padding: 0px; margin: 0px;\"><span class=\"nodeLabel\" style=\"background-color: rgba(0, 0, 0, 0); color: rgb(19, 19, 0); fill: rgb(58, 71, 73); stroke: none; stroke-width: 1px; opacity: 1; stroke-dasharray: none; font-size: 16px; font-family: sans-serif; text-anchor: start; padding: 0px; margin: 0px;\">type_of_vehicle</span></div></foreignObject><foreignObject width=\"48.125\" height=\"25.59375\" transform=\"translate( -66.08854675292969, -57.1875)\" style=\"background-color: rgba(0, 0, 0, 0); color: rgb(58, 71, 73); fill: rgb(58, 71, 73); stroke: none; stroke-width: 1px; opacity: 1; stroke-dasharray: none; font-size: 16px; font-family: sans-serif; text-anchor: start; padding: 0px; margin: 0px;\"><div xmlns=\"http://www.w3.org/1999/xhtml\" style=\"display: inline-block; white-space: nowrap; background-color: rgba(0, 0, 0, 0); color: rgb(58, 71, 73); fill: rgb(58, 71, 73); stroke: none; stroke-width: 1px; opacity: 1; stroke-dasharray: none; font-size: 16px; font-family: sans-serif; text-anchor: start; padding: 0px; margin: 0px;\"><span class=\"nodeLabel\" style=\"background-color: rgba(0, 0, 0, 0); color: rgb(19, 19, 0); fill: rgb(58, 71, 73); stroke: none; stroke-width: 1px; opacity: 1; stroke-dasharray: none; font-size: 16px; font-family: sans-serif; text-anchor: start; padding: 0px; margin: 0px;\">power</span></div></foreignObject><foreignObject width=\"69.64583587646484\" height=\"25.59375\" transform=\"translate( -66.08854675292969, -27.59375)\" style=\"background-color: rgba(0, 0, 0, 0); color: rgb(58, 71, 73); fill: rgb(58, 71, 73); stroke: none; stroke-width: 1px; opacity: 1; stroke-dasharray: none; font-size: 16px; font-family: sans-serif; text-anchor: start; padding: 0px; margin: 0px;\"><div xmlns=\"http://www.w3.org/1999/xhtml\" style=\"display: inline-block; white-space: nowrap; background-color: rgba(0, 0, 0, 0); color: rgb(58, 71, 73); fill: rgb(58, 71, 73); stroke: none; stroke-width: 1px; opacity: 1; stroke-dasharray: none; font-size: 16px; font-family: sans-serif; text-anchor: start; padding: 0px; margin: 0px;\"><span class=\"nodeLabel\" style=\"background-color: rgba(0, 0, 0, 0); color: rgb(19, 19, 0); fill: rgb(58, 71, 73); stroke: none; stroke-width: 1px; opacity: 1; stroke-dasharray: none; font-size: 16px; font-family: sans-serif; text-anchor: start; padding: 0px; margin: 0px;\">fuel_type</span></div></foreignObject><foreignObject width=\"86.625\" height=\"25.59375\" transform=\"translate( -66.08854675292969, 2)\" style=\"background-color: rgba(0, 0, 0, 0); color: rgb(58, 71, 73); fill: rgb(58, 71, 73); stroke: none; stroke-width: 1px; opacity: 1; stroke-dasharray: none; font-size: 16px; font-family: sans-serif; text-anchor: start; padding: 0px; margin: 0px;\"><div xmlns=\"http://www.w3.org/1999/xhtml\" style=\"display: inline-block; white-space: nowrap; background-color: rgba(0, 0, 0, 0); color: rgb(58, 71, 73); fill: rgb(58, 71, 73); stroke: none; stroke-width: 1px; opacity: 1; stroke-dasharray: none; font-size: 16px; font-family: sans-serif; text-anchor: start; padding: 0px; margin: 0px;\"><span class=\"nodeLabel\" style=\"background-color: rgba(0, 0, 0, 0); color: rgb(19, 19, 0); fill: rgb(58, 71, 73); stroke: none; stroke-width: 1px; opacity: 1; stroke-dasharray: none; font-size: 16px; font-family: sans-serif; text-anchor: start; padding: 0px; margin: 0px;\">engine_cap</span></div></foreignObject><foreignObject width=\"95.875\" height=\"25.59375\" transform=\"translate( -66.08854675292969, 31.59375)\" style=\"background-color: rgba(0, 0, 0, 0); color: rgb(58, 71, 73); fill: rgb(58, 71, 73); stroke: none; stroke-width: 1px; opacity: 1; stroke-dasharray: none; font-size: 16px; font-family: sans-serif; text-anchor: start; padding: 0px; margin: 0px;\"><div xmlns=\"http://www.w3.org/1999/xhtml\" style=\"display: inline-block; white-space: nowrap; background-color: rgba(0, 0, 0, 0); color: rgb(58, 71, 73); fill: rgb(58, 71, 73); stroke: none; stroke-width: 1px; opacity: 1; stroke-dasharray: none; font-size: 16px; font-family: sans-serif; text-anchor: start; padding: 0px; margin: 0px;\"><span class=\"nodeLabel\" style=\"background-color: rgba(0, 0, 0, 0); color: rgb(19, 19, 0); fill: rgb(58, 71, 73); stroke: none; stroke-width: 1px; opacity: 1; stroke-dasharray: none; font-size: 16px; font-family: sans-serif; text-anchor: start; padding: 0px; margin: 0px;\">depreciation</span></div></foreignObject><foreignObject width=\"60.75\" height=\"25.59375\" transform=\"translate( -66.08854675292969, 61.1875)\" style=\"background-color: rgba(0, 0, 0, 0); color: rgb(58, 71, 73); fill: rgb(58, 71, 73); stroke: none; stroke-width: 1px; opacity: 1; stroke-dasharray: none; font-size: 16px; font-family: sans-serif; text-anchor: start; padding: 0px; margin: 0px;\"><div xmlns=\"http://www.w3.org/1999/xhtml\" style=\"display: inline-block; white-space: nowrap; background-color: rgba(0, 0, 0, 0); color: rgb(58, 71, 73); fill: rgb(58, 71, 73); stroke: none; stroke-width: 1px; opacity: 1; stroke-dasharray: none; font-size: 16px; font-family: sans-serif; text-anchor: start; padding: 0px; margin: 0px;\"><span class=\"nodeLabel\" style=\"background-color: rgba(0, 0, 0, 0); color: rgb(19, 19, 0); fill: rgb(58, 71, 73); stroke: none; stroke-width: 1px; opacity: 1; stroke-dasharray: none; font-size: 16px; font-family: sans-serif; text-anchor: start; padding: 0px; margin: 0px;\">mileage</span></div></foreignObject><foreignObject width=\"59.25\" height=\"25.59375\" transform=\"translate( -66.08854675292969, 90.78125)\" style=\"background-color: rgba(0, 0, 0, 0); color: rgb(58, 71, 73); fill: rgb(58, 71, 73); stroke: none; stroke-width: 1px; opacity: 1; stroke-dasharray: none; font-size: 16px; font-family: sans-serif; text-anchor: start; padding: 0px; margin: 0px;\"><div xmlns=\"http://www.w3.org/1999/xhtml\" style=\"display: inline-block; white-space: nowrap; background-color: rgba(0, 0, 0, 0); color: rgb(58, 71, 73); fill: rgb(58, 71, 73); stroke: none; stroke-width: 1px; opacity: 1; stroke-dasharray: none; font-size: 16px; font-family: sans-serif; text-anchor: start; padding: 0px; margin: 0px;\"><span class=\"nodeLabel\" style=\"background-color: rgba(0, 0, 0, 0); color: rgb(19, 19, 0); fill: rgb(58, 71, 73); stroke: none; stroke-width: 1px; opacity: 1; stroke-dasharray: none; font-size: 16px; font-family: sans-serif; text-anchor: start; padding: 0px; margin: 0px;\">lifespan</span></div></foreignObject><foreignObject width=\"61.65625\" height=\"25.59375\" transform=\"translate( -66.08854675292969, 120.375)\" style=\"background-color: rgba(0, 0, 0, 0); color: rgb(58, 71, 73); fill: rgb(58, 71, 73); stroke: none; stroke-width: 1px; opacity: 1; stroke-dasharray: none; font-size: 16px; font-family: sans-serif; text-anchor: start; padding: 0px; margin: 0px;\"><div xmlns=\"http://www.w3.org/1999/xhtml\" style=\"display: inline-block; white-space: nowrap; background-color: rgba(0, 0, 0, 0); color: rgb(58, 71, 73); fill: rgb(58, 71, 73); stroke: none; stroke-width: 1px; opacity: 1; stroke-dasharray: none; font-size: 16px; font-family: sans-serif; text-anchor: start; padding: 0px; margin: 0px;\"><span class=\"nodeLabel\" style=\"background-color: rgba(0, 0, 0, 0); color: rgb(19, 19, 0); fill: rgb(58, 71, 73); stroke: none; stroke-width: 1px; opacity: 1; stroke-dasharray: none; font-size: 16px; font-family: sans-serif; text-anchor: start; padding: 0px; margin: 0px;\">features</span></div></foreignObject></g></g><g class=\"node default\" id=\"classId-ModerateImportance-828\" data-node=\"true\" data-id=\"ModerateImportance\" transform=\"translate(532.2187576293945, 347.25)\" style=\"background-color: rgba(0, 0, 0, 0); color: rgb(58, 71, 73); fill: rgb(58, 71, 73); stroke: none; stroke-width: 1px; opacity: 1; stroke-dasharray: none; font-size: 16px; font-family: sans-serif; text-anchor: start; padding: 0px; margin: 0px;\"><rect style=\"background-color: rgba(0, 0, 0, 0); color: rgb(58, 71, 73); fill: rgb(236, 236, 255); stroke: rgb(147, 112, 219); stroke-width: 1px; opacity: 1; stroke-dasharray: none; font-size: 16px; font-family: sans-serif; text-anchor: start; padding: 0px; margin: 0px;\" class=\"outer title-state\" x=\"-93.57292175292969\" y=\"-150.671875\" width=\"187.14584350585938\" height=\"301.34375\"></rect><line class=\"divider\" x1=\"-93.57292175292969\" x2=\"93.57292175292969\" y1=\"-113.078125\" y2=\"-113.078125\" style=\"background-color: rgba(0, 0, 0, 0); color: rgb(58, 71, 73); fill: rgb(58, 71, 73); stroke: rgb(147, 112, 219); stroke-width: 1px; opacity: 1; stroke-dasharray: none; font-size: 16px; font-family: sans-serif; text-anchor: start; padding: 0px; margin: 0px;\"></line><line class=\"divider\" x1=\"-93.57292175292969\" x2=\"93.57292175292969\" y1=\"139.671875\" y2=\"139.671875\" style=\"background-color: rgba(0, 0, 0, 0); color: rgb(58, 71, 73); fill: rgb(58, 71, 73); stroke: rgb(147, 112, 219); stroke-width: 1px; opacity: 1; stroke-dasharray: none; font-size: 16px; font-family: sans-serif; text-anchor: start; padding: 0px; margin: 0px;\"></line><g class=\"label\" style=\"background-color: rgba(0, 0, 0, 0); color: rgb(58, 71, 73); fill: rgb(58, 71, 73); stroke: none; stroke-width: 1px; opacity: 1; stroke-dasharray: none; font-size: 16px; font-family: sans-serif; text-anchor: start; padding: 0px; margin: 0px;\"><foreignObject width=\"0\" height=\"0\" style=\"background-color: rgba(0, 0, 0, 0); color: rgb(58, 71, 73); fill: rgb(58, 71, 73); stroke: none; stroke-width: 1px; opacity: 1; stroke-dasharray: none; font-size: 16px; font-family: sans-serif; text-anchor: start; padding: 0px; margin: 0px;\"><div xmlns=\"http://www.w3.org/1999/xhtml\" style=\"display: inline-block; white-space: nowrap; background-color: rgba(0, 0, 0, 0); color: rgb(58, 71, 73); fill: rgb(58, 71, 73); stroke: none; stroke-width: 1px; opacity: 1; stroke-dasharray: none; font-size: 16px; font-family: sans-serif; text-anchor: start; padding: 0px; margin: 0px;\"><span class=\"nodeLabel\" style=\"background-color: rgba(0, 0, 0, 0); color: rgb(19, 19, 0); fill: rgb(58, 71, 73); stroke: none; stroke-width: 1px; opacity: 1; stroke-dasharray: none; font-size: 16px; font-family: sans-serif; text-anchor: start; padding: 0px; margin: 0px;\"></span></div></foreignObject><foreignObject class=\"classTitle\" width=\"172.14584350585938\" height=\"25.59375\" transform=\"translate( -86.07292175292969, -143.171875)\" style=\"background-color: rgba(0, 0, 0, 0); color: rgb(58, 71, 73); fill: rgb(58, 71, 73); stroke: none; stroke-width: 1px; opacity: 1; stroke-dasharray: none; font-size: 16px; font-family: sans-serif; text-anchor: start; padding: 0px; margin: 0px;\"><div xmlns=\"http://www.w3.org/1999/xhtml\" style=\"display: inline-block; white-space: nowrap; background-color: rgba(0, 0, 0, 0); color: rgb(58, 71, 73); fill: rgb(58, 71, 73); stroke: none; stroke-width: 1px; opacity: 1; stroke-dasharray: none; font-size: 16px; font-family: sans-serif; text-anchor: start; padding: 0px; margin: 0px;\"><span class=\"nodeLabel\" style=\"background-color: rgba(0, 0, 0, 0); color: rgb(19, 19, 0); fill: rgb(58, 71, 73); stroke: none; stroke-width: 1px; opacity: 1; stroke-dasharray: none; font-size: 16px; font-family: sans-serif; text-anchor: start; padding: 0px; margin: 0px;\">ModerateImportance</span></div></foreignObject><foreignObject width=\"67.45833587646484\" height=\"25.59375\" transform=\"translate( -86.07292175292969, -101.578125)\" style=\"background-color: rgba(0, 0, 0, 0); color: rgb(58, 71, 73); fill: rgb(58, 71, 73); stroke: none; stroke-width: 1px; opacity: 1; stroke-dasharray: none; font-size: 16px; font-family: sans-serif; text-anchor: start; padding: 0px; margin: 0px;\"><div xmlns=\"http://www.w3.org/1999/xhtml\" style=\"display: inline-block; white-space: nowrap; background-color: rgba(0, 0, 0, 0); color: rgb(58, 71, 73); fill: rgb(58, 71, 73); stroke: none; stroke-width: 1px; opacity: 1; stroke-dasharray: none; font-size: 16px; font-family: sans-serif; text-anchor: start; padding: 0px; margin: 0px;\"><span class=\"nodeLabel\" style=\"background-color: rgba(0, 0, 0, 0); color: rgb(19, 19, 0); fill: rgb(58, 71, 73); stroke: none; stroke-width: 1px; opacity: 1; stroke-dasharray: none; font-size: 16px; font-family: sans-serif; text-anchor: start; padding: 0px; margin: 0px;\">category</span></div></foreignObject><foreignObject width=\"96.53125\" height=\"25.59375\" transform=\"translate( -86.07292175292969, -71.984375)\" style=\"background-color: rgba(0, 0, 0, 0); color: rgb(58, 71, 73); fill: rgb(58, 71, 73); stroke: none; stroke-width: 1px; opacity: 1; stroke-dasharray: none; font-size: 16px; font-family: sans-serif; text-anchor: start; padding: 0px; margin: 0px;\"><div xmlns=\"http://www.w3.org/1999/xhtml\" style=\"display: inline-block; white-space: nowrap; background-color: rgba(0, 0, 0, 0); color: rgb(58, 71, 73); fill: rgb(58, 71, 73); stroke: none; stroke-width: 1px; opacity: 1; stroke-dasharray: none; font-size: 16px; font-family: sans-serif; text-anchor: start; padding: 0px; margin: 0px;\"><span class=\"nodeLabel\" style=\"background-color: rgba(0, 0, 0, 0); color: rgb(19, 19, 0); fill: rgb(58, 71, 73); stroke: none; stroke-width: 1px; opacity: 1; stroke-dasharray: none; font-size: 16px; font-family: sans-serif; text-anchor: start; padding: 0px; margin: 0px;\">transmission</span></div></foreignObject><foreignObject width=\"93.3125\" height=\"25.59375\" transform=\"translate( -86.07292175292969, -42.390625)\" style=\"background-color: rgba(0, 0, 0, 0); color: rgb(58, 71, 73); fill: rgb(58, 71, 73); stroke: none; stroke-width: 1px; opacity: 1; stroke-dasharray: none; font-size: 16px; font-family: sans-serif; text-anchor: start; padding: 0px; margin: 0px;\"><div xmlns=\"http://www.w3.org/1999/xhtml\" style=\"display: inline-block; white-space: nowrap; background-color: rgba(0, 0, 0, 0); color: rgb(58, 71, 73); fill: rgb(58, 71, 73); stroke: none; stroke-width: 1px; opacity: 1; stroke-dasharray: none; font-size: 16px; font-family: sans-serif; text-anchor: start; padding: 0px; margin: 0px;\"><span class=\"nodeLabel\" style=\"background-color: rgba(0, 0, 0, 0); color: rgb(19, 19, 0); fill: rgb(58, 71, 73); stroke: none; stroke-width: 1px; opacity: 1; stroke-dasharray: none; font-size: 16px; font-family: sans-serif; text-anchor: start; padding: 0px; margin: 0px;\">curb_weight</span></div></foreignObject><foreignObject width=\"105.15625\" height=\"25.59375\" transform=\"translate( -86.07292175292969, -12.796875)\" style=\"background-color: rgba(0, 0, 0, 0); color: rgb(58, 71, 73); fill: rgb(58, 71, 73); stroke: none; stroke-width: 1px; opacity: 1; stroke-dasharray: none; font-size: 16px; font-family: sans-serif; text-anchor: start; padding: 0px; margin: 0px;\"><div xmlns=\"http://www.w3.org/1999/xhtml\" style=\"display: inline-block; white-space: nowrap; background-color: rgba(0, 0, 0, 0); color: rgb(58, 71, 73); fill: rgb(58, 71, 73); stroke: none; stroke-width: 1px; opacity: 1; stroke-dasharray: none; font-size: 16px; font-family: sans-serif; text-anchor: start; padding: 0px; margin: 0px;\"><span class=\"nodeLabel\" style=\"background-color: rgba(0, 0, 0, 0); color: rgb(19, 19, 0); fill: rgb(58, 71, 73); stroke: none; stroke-width: 1px; opacity: 1; stroke-dasharray: none; font-size: 16px; font-family: sans-serif; text-anchor: start; padding: 0px; margin: 0px;\">no_of_owners</span></div></foreignObject><foreignObject width=\"65\" height=\"25.59375\" transform=\"translate( -86.07292175292969, 16.796875)\" style=\"background-color: rgba(0, 0, 0, 0); color: rgb(58, 71, 73); fill: rgb(58, 71, 73); stroke: none; stroke-width: 1px; opacity: 1; stroke-dasharray: none; font-size: 16px; font-family: sans-serif; text-anchor: start; padding: 0px; margin: 0px;\"><div xmlns=\"http://www.w3.org/1999/xhtml\" style=\"display: inline-block; white-space: nowrap; background-color: rgba(0, 0, 0, 0); color: rgb(58, 71, 73); fill: rgb(58, 71, 73); stroke: none; stroke-width: 1px; opacity: 1; stroke-dasharray: none; font-size: 16px; font-family: sans-serif; text-anchor: start; padding: 0px; margin: 0px;\"><span class=\"nodeLabel\" style=\"background-color: rgba(0, 0, 0, 0); color: rgb(19, 19, 0); fill: rgb(58, 71, 73); stroke: none; stroke-width: 1px; opacity: 1; stroke-dasharray: none; font-size: 16px; font-family: sans-serif; text-anchor: start; padding: 0px; margin: 0px;\">road_tax</span></div></foreignObject><foreignObject width=\"94.02083587646484\" height=\"25.59375\" transform=\"translate( -86.07292175292969, 46.390625)\" style=\"background-color: rgba(0, 0, 0, 0); color: rgb(58, 71, 73); fill: rgb(58, 71, 73); stroke: none; stroke-width: 1px; opacity: 1; stroke-dasharray: none; font-size: 16px; font-family: sans-serif; text-anchor: start; padding: 0px; margin: 0px;\"><div xmlns=\"http://www.w3.org/1999/xhtml\" style=\"display: inline-block; white-space: nowrap; background-color: rgba(0, 0, 0, 0); color: rgb(58, 71, 73); fill: rgb(58, 71, 73); stroke: none; stroke-width: 1px; opacity: 1; stroke-dasharray: none; font-size: 16px; font-family: sans-serif; text-anchor: start; padding: 0px; margin: 0px;\"><span class=\"nodeLabel\" style=\"background-color: rgba(0, 0, 0, 0); color: rgb(19, 19, 0); fill: rgb(58, 71, 73); stroke: none; stroke-width: 1px; opacity: 1; stroke-dasharray: none; font-size: 16px; font-family: sans-serif; text-anchor: start; padding: 0px; margin: 0px;\">opc_scheme</span></div></foreignObject><foreignObject width=\"101.90625\" height=\"25.59375\" transform=\"translate( -86.07292175292969, 75.984375)\" style=\"background-color: rgba(0, 0, 0, 0); color: rgb(58, 71, 73); fill: rgb(58, 71, 73); stroke: none; stroke-width: 1px; opacity: 1; stroke-dasharray: none; font-size: 16px; font-family: sans-serif; text-anchor: start; padding: 0px; margin: 0px;\"><div xmlns=\"http://www.w3.org/1999/xhtml\" style=\"display: inline-block; white-space: nowrap; background-color: rgba(0, 0, 0, 0); color: rgb(58, 71, 73); fill: rgb(58, 71, 73); stroke: none; stroke-width: 1px; opacity: 1; stroke-dasharray: none; font-size: 16px; font-family: sans-serif; text-anchor: start; padding: 0px; margin: 0px;\"><span class=\"nodeLabel\" style=\"background-color: rgba(0, 0, 0, 0); color: rgb(19, 19, 0); fill: rgb(58, 71, 73); stroke: none; stroke-width: 1px; opacity: 1; stroke-dasharray: none; font-size: 16px; font-family: sans-serif; text-anchor: start; padding: 0px; margin: 0px;\">eco_category</span></div></foreignObject><foreignObject width=\"85.8125\" height=\"25.59375\" transform=\"translate( -86.07292175292969, 105.578125)\" style=\"background-color: rgba(0, 0, 0, 0); color: rgb(58, 71, 73); fill: rgb(58, 71, 73); stroke: none; stroke-width: 1px; opacity: 1; stroke-dasharray: none; font-size: 16px; font-family: sans-serif; text-anchor: start; padding: 0px; margin: 0px;\"><div xmlns=\"http://www.w3.org/1999/xhtml\" style=\"display: inline-block; white-space: nowrap; background-color: rgba(0, 0, 0, 0); color: rgb(58, 71, 73); fill: rgb(58, 71, 73); stroke: none; stroke-width: 1px; opacity: 1; stroke-dasharray: none; font-size: 16px; font-family: sans-serif; text-anchor: start; padding: 0px; margin: 0px;\"><span class=\"nodeLabel\" style=\"background-color: rgba(0, 0, 0, 0); color: rgb(19, 19, 0); fill: rgb(58, 71, 73); stroke: none; stroke-width: 1px; opacity: 1; stroke-dasharray: none; font-size: 16px; font-family: sans-serif; text-anchor: start; padding: 0px; margin: 0px;\">accessories</span></div></foreignObject></g></g><g class=\"node default\" id=\"classId-LowImportance-829\" data-node=\"true\" data-id=\"LowImportance\" transform=\"translate(749.0520935058594, 347.25)\" style=\"background-color: rgba(0, 0, 0, 0); color: rgb(58, 71, 73); fill: rgb(58, 71, 73); stroke: none; stroke-width: 1px; opacity: 1; stroke-dasharray: none; font-size: 16px; font-family: sans-serif; text-anchor: start; padding: 0px; margin: 0px;\"><rect style=\"background-color: rgba(0, 0, 0, 0); color: rgb(58, 71, 73); fill: rgb(236, 236, 255); stroke: rgb(147, 112, 219); stroke-width: 1px; opacity: 1; stroke-dasharray: none; font-size: 16px; font-family: sans-serif; text-anchor: start; padding: 0px; margin: 0px;\" class=\"outer title-state\" x=\"-73.26042175292969\" y=\"-91.484375\" width=\"146.52084350585938\" height=\"182.96875\"></rect><line class=\"divider\" x1=\"-73.26042175292969\" x2=\"73.26042175292969\" y1=\"-53.890625\" y2=\"-53.890625\" style=\"background-color: rgba(0, 0, 0, 0); color: rgb(58, 71, 73); fill: rgb(58, 71, 73); stroke: rgb(147, 112, 219); stroke-width: 1px; opacity: 1; stroke-dasharray: none; font-size: 16px; font-family: sans-serif; text-anchor: start; padding: 0px; margin: 0px;\"></line><line class=\"divider\" x1=\"-73.26042175292969\" x2=\"73.26042175292969\" y1=\"80.484375\" y2=\"80.484375\" style=\"background-color: rgba(0, 0, 0, 0); color: rgb(58, 71, 73); fill: rgb(58, 71, 73); stroke: rgb(147, 112, 219); stroke-width: 1px; opacity: 1; stroke-dasharray: none; font-size: 16px; font-family: sans-serif; text-anchor: start; padding: 0px; margin: 0px;\"></line><g class=\"label\" style=\"background-color: rgba(0, 0, 0, 0); color: rgb(58, 71, 73); fill: rgb(58, 71, 73); stroke: none; stroke-width: 1px; opacity: 1; stroke-dasharray: none; font-size: 16px; font-family: sans-serif; text-anchor: start; padding: 0px; margin: 0px;\"><foreignObject width=\"0\" height=\"0\" style=\"background-color: rgba(0, 0, 0, 0); color: rgb(58, 71, 73); fill: rgb(58, 71, 73); stroke: none; stroke-width: 1px; opacity: 1; stroke-dasharray: none; font-size: 16px; font-family: sans-serif; text-anchor: start; padding: 0px; margin: 0px;\"><div xmlns=\"http://www.w3.org/1999/xhtml\" style=\"display: inline-block; white-space: nowrap; background-color: rgba(0, 0, 0, 0); color: rgb(58, 71, 73); fill: rgb(58, 71, 73); stroke: none; stroke-width: 1px; opacity: 1; stroke-dasharray: none; font-size: 16px; font-family: sans-serif; text-anchor: start; padding: 0px; margin: 0px;\"><span class=\"nodeLabel\" style=\"background-color: rgba(0, 0, 0, 0); color: rgb(19, 19, 0); fill: rgb(58, 71, 73); stroke: none; stroke-width: 1px; opacity: 1; stroke-dasharray: none; font-size: 16px; font-family: sans-serif; text-anchor: start; padding: 0px; margin: 0px;\"></span></div></foreignObject><foreignObject class=\"classTitle\" width=\"126.22917175292969\" height=\"25.59375\" transform=\"translate( -63.114585876464844, -83.984375)\" style=\"background-color: rgba(0, 0, 0, 0); color: rgb(58, 71, 73); fill: rgb(58, 71, 73); stroke: none; stroke-width: 1px; opacity: 1; stroke-dasharray: none; font-size: 16px; font-family: sans-serif; text-anchor: start; padding: 0px; margin: 0px;\"><div xmlns=\"http://www.w3.org/1999/xhtml\" style=\"display: inline-block; white-space: nowrap; background-color: rgba(0, 0, 0, 0); color: rgb(58, 71, 73); fill: rgb(58, 71, 73); stroke: none; stroke-width: 1px; opacity: 1; stroke-dasharray: none; font-size: 16px; font-family: sans-serif; text-anchor: start; padding: 0px; margin: 0px;\"><span class=\"nodeLabel\" style=\"background-color: rgba(0, 0, 0, 0); color: rgb(19, 19, 0); fill: rgb(58, 71, 73); stroke: none; stroke-width: 1px; opacity: 1; stroke-dasharray: none; font-size: 16px; font-family: sans-serif; text-anchor: start; padding: 0px; margin: 0px;\">LowImportance</span></div></foreignObject><foreignObject width=\"67.90625\" height=\"25.59375\" transform=\"translate( -65.76042175292969, -42.390625)\" style=\"background-color: rgba(0, 0, 0, 0); color: rgb(58, 71, 73); fill: rgb(58, 71, 73); stroke: none; stroke-width: 1px; opacity: 1; stroke-dasharray: none; font-size: 16px; font-family: sans-serif; text-anchor: start; padding: 0px; margin: 0px;\"><div xmlns=\"http://www.w3.org/1999/xhtml\" style=\"display: inline-block; white-space: nowrap; background-color: rgba(0, 0, 0, 0); color: rgb(58, 71, 73); fill: rgb(58, 71, 73); stroke: none; stroke-width: 1px; opacity: 1; stroke-dasharray: none; font-size: 16px; font-family: sans-serif; text-anchor: start; padding: 0px; margin: 0px;\"><span class=\"nodeLabel\" style=\"background-color: rgba(0, 0, 0, 0); color: rgb(19, 19, 0); fill: rgb(58, 71, 73); stroke: none; stroke-width: 1px; opacity: 1; stroke-dasharray: none; font-size: 16px; font-family: sans-serif; text-anchor: start; padding: 0px; margin: 0px;\">listing_id</span></div></foreignObject><foreignObject width=\"29.52083396911621\" height=\"25.59375\" transform=\"translate( -65.76042175292969, -12.796875)\" style=\"background-color: rgba(0, 0, 0, 0); color: rgb(58, 71, 73); fill: rgb(58, 71, 73); stroke: none; stroke-width: 1px; opacity: 1; stroke-dasharray: none; font-size: 16px; font-family: sans-serif; text-anchor: start; padding: 0px; margin: 0px;\"><div xmlns=\"http://www.w3.org/1999/xhtml\" style=\"display: inline-block; white-space: nowrap; background-color: rgba(0, 0, 0, 0); color: rgb(58, 71, 73); fill: rgb(58, 71, 73); stroke: none; stroke-width: 1px; opacity: 1; stroke-dasharray: none; font-size: 16px; font-family: sans-serif; text-anchor: start; padding: 0px; margin: 0px;\"><span class=\"nodeLabel\" style=\"background-color: rgba(0, 0, 0, 0); color: rgb(19, 19, 0); fill: rgb(58, 71, 73); stroke: none; stroke-width: 1px; opacity: 1; stroke-dasharray: none; font-size: 16px; font-family: sans-serif; text-anchor: start; padding: 0px; margin: 0px;\">title</span></div></foreignObject><foreignObject width=\"85.58333587646484\" height=\"25.59375\" transform=\"translate( -65.76042175292969, 16.796875)\" style=\"background-color: rgba(0, 0, 0, 0); color: rgb(58, 71, 73); fill: rgb(58, 71, 73); stroke: none; stroke-width: 1px; opacity: 1; stroke-dasharray: none; font-size: 16px; font-family: sans-serif; text-anchor: start; padding: 0px; margin: 0px;\"><div xmlns=\"http://www.w3.org/1999/xhtml\" style=\"display: inline-block; white-space: nowrap; background-color: rgba(0, 0, 0, 0); color: rgb(58, 71, 73); fill: rgb(58, 71, 73); stroke: none; stroke-width: 1px; opacity: 1; stroke-dasharray: none; font-size: 16px; font-family: sans-serif; text-anchor: start; padding: 0px; margin: 0px;\"><span class=\"nodeLabel\" style=\"background-color: rgba(0, 0, 0, 0); color: rgb(19, 19, 0); fill: rgb(58, 71, 73); stroke: none; stroke-width: 1px; opacity: 1; stroke-dasharray: none; font-size: 16px; font-family: sans-serif; text-anchor: start; padding: 0px; margin: 0px;\">description</span></div></foreignObject><foreignObject width=\"131.52084350585938\" height=\"25.59375\" transform=\"translate( -65.76042175292969, 46.390625)\" style=\"background-color: rgba(0, 0, 0, 0); color: rgb(58, 71, 73); fill: rgb(58, 71, 73); stroke: none; stroke-width: 1px; opacity: 1; stroke-dasharray: none; font-size: 16px; font-family: sans-serif; text-anchor: start; padding: 0px; margin: 0px;\"><div xmlns=\"http://www.w3.org/1999/xhtml\" style=\"display: inline-block; white-space: nowrap; background-color: rgba(0, 0, 0, 0); color: rgb(58, 71, 73); fill: rgb(58, 71, 73); stroke: none; stroke-width: 1px; opacity: 1; stroke-dasharray: none; font-size: 16px; font-family: sans-serif; text-anchor: start; padding: 0px; margin: 0px;\"><span class=\"nodeLabel\" style=\"background-color: rgba(0, 0, 0, 0); color: rgb(19, 19, 0); fill: rgb(58, 71, 73); stroke: none; stroke-width: 1px; opacity: 1; stroke-dasharray: none; font-size: 16px; font-family: sans-serif; text-anchor: start; padding: 0px; margin: 0px;\">original_reg_date</span></div></foreignObject></g></g></g></g></g></svg>"
   ]
  },
  {
   "cell_type": "markdown",
   "id": "a30814de",
   "metadata": {},
   "source": [
    "## 2.Preprocessing"
   ]
  },
  {
   "cell_type": "code",
   "execution_count": 40,
   "id": "ebc6a720",
   "metadata": {},
   "outputs": [
    {
     "name": "stdout",
     "output_type": "stream",
     "text": [
      "\n",
      "all column names:\n",
      "['title', 'make', 'model', 'description', 'manufactured', 'original_reg_date', 'reg_date', 'type_of_vehicle', 'category', 'transmission', 'curb_weight', 'power', 'fuel_type', 'engine_cap', 'no_of_owners', 'depreciation', 'coe', 'road_tax', 'dereg_value', 'mileage', 'omv', 'arf', 'opc_scheme', 'lifespan', 'eco_category', 'features', 'accessories', 'indicative_price', 'price']\n"
     ]
    }
   ],
   "source": [
    "# print the columns\n",
    "print(\"\\nall column names:\")\n",
    "print(data.columns.tolist())"
   ]
  },
  {
   "cell_type": "markdown",
   "id": "35730b86",
   "metadata": {},
   "source": [
    "### 2.1 Preprocessing column by column"
   ]
  },
  {
   "cell_type": "markdown",
   "id": "af5a0c56",
   "metadata": {},
   "source": [
    "### 2.1.1 process title"
   ]
  },
  {
   "cell_type": "code",
   "execution_count": 41,
   "id": "de2a3e95",
   "metadata": {},
   "outputs": [],
   "source": [
    "# 2. clean the complex columns\n",
    "def clean_title(title):\n",
    "    # extract the COE information\n",
    "    coe_match = re.search(r'\\(COE till (\\d{2}/\\d{4})\\)', title)\n",
    "    coe_expiry = coe_match.group(1) if coe_match else None\n",
    "    # remove the COE information\n",
    "    title = re.sub(r'\\(COE till \\d{2}/\\d{4}\\)', '', title)\n",
    "    # remove the year, capacity and mileage information\n",
    "    title = re.sub(r'\\b\\d{4}\\b|\\d+(\\.\\d+)?(cc|l|litre|liter)|[0-9]+\\s*(km|kms)', '', title, flags=re.IGNORECASE)\n",
    "    # remove common words like 'auto', 'manual', 'diesel', 'petrol\n",
    "    title = re.sub(r'\\b(auto|manual|diesel|petrol)\\b', '', title, flags=re.IGNORECASE)\n",
    "    # remove extra whitespaces\n",
    "    return ' '.join(title.split())\n",
    "\n",
    "def find_best_match(x, choices, cutoff=80):\n",
    "    best_match = process.extractOne(x, choices)\n",
    "    return best_match[0] if best_match and best_match[1] >= cutoff else x\n",
    "\n",
    "# clean title\n",
    "data['cleaned_title'] = data['title'].apply(clean_title)\n",
    "\n",
    "\n",
    "# delete the original title column\n",
    "data = data.drop('title', axis=1)"
   ]
  },
  {
   "cell_type": "code",
   "execution_count": 42,
   "id": "7479ff94",
   "metadata": {},
   "outputs": [
    {
     "data": {
      "text/html": [
       "<div>\n",
       "<style scoped>\n",
       "    .dataframe tbody tr th:only-of-type {\n",
       "        vertical-align: middle;\n",
       "    }\n",
       "\n",
       "    .dataframe tbody tr th {\n",
       "        vertical-align: top;\n",
       "    }\n",
       "\n",
       "    .dataframe thead th {\n",
       "        text-align: right;\n",
       "    }\n",
       "</style>\n",
       "<table border=\"1\" class=\"dataframe\">\n",
       "  <thead>\n",
       "    <tr style=\"text-align: right;\">\n",
       "      <th></th>\n",
       "      <th>make</th>\n",
       "      <th>model</th>\n",
       "      <th>description</th>\n",
       "      <th>manufactured</th>\n",
       "      <th>original_reg_date</th>\n",
       "      <th>reg_date</th>\n",
       "      <th>type_of_vehicle</th>\n",
       "      <th>category</th>\n",
       "      <th>transmission</th>\n",
       "      <th>curb_weight</th>\n",
       "      <th>...</th>\n",
       "      <th>omv</th>\n",
       "      <th>arf</th>\n",
       "      <th>opc_scheme</th>\n",
       "      <th>lifespan</th>\n",
       "      <th>eco_category</th>\n",
       "      <th>features</th>\n",
       "      <th>accessories</th>\n",
       "      <th>indicative_price</th>\n",
       "      <th>price</th>\n",
       "      <th>cleaned_title</th>\n",
       "    </tr>\n",
       "    <tr>\n",
       "      <th>listing_id</th>\n",
       "      <th></th>\n",
       "      <th></th>\n",
       "      <th></th>\n",
       "      <th></th>\n",
       "      <th></th>\n",
       "      <th></th>\n",
       "      <th></th>\n",
       "      <th></th>\n",
       "      <th></th>\n",
       "      <th></th>\n",
       "      <th></th>\n",
       "      <th></th>\n",
       "      <th></th>\n",
       "      <th></th>\n",
       "      <th></th>\n",
       "      <th></th>\n",
       "      <th></th>\n",
       "      <th></th>\n",
       "      <th></th>\n",
       "      <th></th>\n",
       "      <th></th>\n",
       "    </tr>\n",
       "  </thead>\n",
       "  <tbody>\n",
       "    <tr>\n",
       "      <th>1292132</th>\n",
       "      <td>land rover</td>\n",
       "      <td>range</td>\n",
       "      <td>1 owner, no repairs needed! it looks great, in...</td>\n",
       "      <td>2018.0</td>\n",
       "      <td>NaN</td>\n",
       "      <td>08-mar-2018</td>\n",
       "      <td>suv</td>\n",
       "      <td>parf car</td>\n",
       "      <td>auto</td>\n",
       "      <td>1884.0</td>\n",
       "      <td>...</td>\n",
       "      <td>88906.0</td>\n",
       "      <td>132031.0</td>\n",
       "      <td>NaN</td>\n",
       "      <td>NaN</td>\n",
       "      <td>uncategorized</td>\n",
       "      <td>3l supercharged v6 p380 engine at 375bhp/450nm...</td>\n",
       "      <td>2 x massage/memory/cooling &amp; warmer seat, rear...</td>\n",
       "      <td>NaN</td>\n",
       "      <td>193788.0</td>\n",
       "      <td>Land Rover Range Rover Velar 3.0A Si6 R-Dynami...</td>\n",
       "    </tr>\n",
       "    <tr>\n",
       "      <th>1294696</th>\n",
       "      <td>mercedes-benz</td>\n",
       "      <td>c200</td>\n",
       "      <td>rare beautiful white c200 sport premium sunroo...</td>\n",
       "      <td>2017.0</td>\n",
       "      <td>NaN</td>\n",
       "      <td>28-dec-2017</td>\n",
       "      <td>luxury sedan</td>\n",
       "      <td>parf car, premium ad car</td>\n",
       "      <td>auto</td>\n",
       "      <td>1465.0</td>\n",
       "      <td>...</td>\n",
       "      <td>40678.0</td>\n",
       "      <td>43950.0</td>\n",
       "      <td>NaN</td>\n",
       "      <td>NaN</td>\n",
       "      <td>uncategorized</td>\n",
       "      <td>2.0l 4 cylinders inline turbocharged engine, p...</td>\n",
       "      <td>multi function steering, electric tailgate, re...</td>\n",
       "      <td>NaN</td>\n",
       "      <td>96800.0</td>\n",
       "      <td>Mercedes-Benz C-Class C200 Sport Premium Sunroof</td>\n",
       "    </tr>\n",
       "    <tr>\n",
       "      <th>1311717</th>\n",
       "      <td>honda</td>\n",
       "      <td>odyssey</td>\n",
       "      <td>comes with warranty. full service done.</td>\n",
       "      <td>2007.0</td>\n",
       "      <td>NaN</td>\n",
       "      <td>19-sep-2007</td>\n",
       "      <td>mpv</td>\n",
       "      <td>coe car, premium ad car, low mileage car</td>\n",
       "      <td>auto</td>\n",
       "      <td>1648.0</td>\n",
       "      <td>...</td>\n",
       "      <td>27994.0</td>\n",
       "      <td>30794.0</td>\n",
       "      <td>NaN</td>\n",
       "      <td>NaN</td>\n",
       "      <td>uncategorized</td>\n",
       "      <td>2.4l k24a 4 cylinders inline dohc i-vtec, 5 sp...</td>\n",
       "      <td>cruise control, touchscreen audio, reverse cam...</td>\n",
       "      <td>NaN</td>\n",
       "      <td>39800.0</td>\n",
       "      <td>Honda Odyssey 2.4A</td>\n",
       "    </tr>\n",
       "    <tr>\n",
       "      <th>1310068</th>\n",
       "      <td>toyota</td>\n",
       "      <td>altis</td>\n",
       "      <td>0</td>\n",
       "      <td>2008.0</td>\n",
       "      <td>NaN</td>\n",
       "      <td>15-dec-2008</td>\n",
       "      <td>mid-sized sedan</td>\n",
       "      <td>coe car, premium ad car</td>\n",
       "      <td>auto</td>\n",
       "      <td>1195.0</td>\n",
       "      <td>...</td>\n",
       "      <td>16084.0</td>\n",
       "      <td>16084.0</td>\n",
       "      <td>NaN</td>\n",
       "      <td>NaN</td>\n",
       "      <td>uncategorized</td>\n",
       "      <td>super fuel efficient 1.6l 16 valves dohc vvt-i...</td>\n",
       "      <td>leather seats, pioneer dvd audio system with r...</td>\n",
       "      <td>NaN</td>\n",
       "      <td>44800.0</td>\n",
       "      <td>Toyota Corolla Altis 1.6A</td>\n",
       "    </tr>\n",
       "    <tr>\n",
       "      <th>1325280</th>\n",
       "      <td>lexus</td>\n",
       "      <td>gs</td>\n",
       "      <td>wear and tear done up. well maintained and reg...</td>\n",
       "      <td>2006.0</td>\n",
       "      <td>NaN</td>\n",
       "      <td>22-dec-2006</td>\n",
       "      <td>luxury sedan</td>\n",
       "      <td>coe car, premium ad car</td>\n",
       "      <td>auto</td>\n",
       "      <td>1660.0</td>\n",
       "      <td>...</td>\n",
       "      <td>50414.0</td>\n",
       "      <td>55456.0</td>\n",
       "      <td>NaN</td>\n",
       "      <td>NaN</td>\n",
       "      <td>uncategorized</td>\n",
       "      <td>powerful 3.0l v6 engine, 227bhp, 6 speed , key...</td>\n",
       "      <td>premium upholstery electric seats. memory seat...</td>\n",
       "      <td>NaN</td>\n",
       "      <td>25800.0</td>\n",
       "      <td>Lexus GS300</td>\n",
       "    </tr>\n",
       "  </tbody>\n",
       "</table>\n",
       "<p>5 rows × 29 columns</p>\n",
       "</div>"
      ],
      "text/plain": [
       "                     make    model  \\\n",
       "listing_id                           \n",
       "1292132        land rover    range   \n",
       "1294696     mercedes-benz     c200   \n",
       "1311717             honda  odyssey   \n",
       "1310068            toyota    altis   \n",
       "1325280             lexus       gs   \n",
       "\n",
       "                                                  description  manufactured  \\\n",
       "listing_id                                                                    \n",
       "1292132     1 owner, no repairs needed! it looks great, in...        2018.0   \n",
       "1294696     rare beautiful white c200 sport premium sunroo...        2017.0   \n",
       "1311717               comes with warranty. full service done.        2007.0   \n",
       "1310068                                                     0        2008.0   \n",
       "1325280     wear and tear done up. well maintained and reg...        2006.0   \n",
       "\n",
       "           original_reg_date     reg_date  type_of_vehicle  \\\n",
       "listing_id                                                   \n",
       "1292132                  NaN  08-mar-2018              suv   \n",
       "1294696                  NaN  28-dec-2017     luxury sedan   \n",
       "1311717                  NaN  19-sep-2007              mpv   \n",
       "1310068                  NaN  15-dec-2008  mid-sized sedan   \n",
       "1325280                  NaN  22-dec-2006     luxury sedan   \n",
       "\n",
       "                                            category transmission  \\\n",
       "listing_id                                                          \n",
       "1292132                                     parf car         auto   \n",
       "1294696                     parf car, premium ad car         auto   \n",
       "1311717     coe car, premium ad car, low mileage car         auto   \n",
       "1310068                      coe car, premium ad car         auto   \n",
       "1325280                      coe car, premium ad car         auto   \n",
       "\n",
       "            curb_weight  ...      omv       arf  opc_scheme  lifespan  \\\n",
       "listing_id               ...                                            \n",
       "1292132          1884.0  ...  88906.0  132031.0         NaN       NaN   \n",
       "1294696          1465.0  ...  40678.0   43950.0         NaN       NaN   \n",
       "1311717          1648.0  ...  27994.0   30794.0         NaN       NaN   \n",
       "1310068          1195.0  ...  16084.0   16084.0         NaN       NaN   \n",
       "1325280          1660.0  ...  50414.0   55456.0         NaN       NaN   \n",
       "\n",
       "             eco_category                                           features  \\\n",
       "listing_id                                                                     \n",
       "1292132     uncategorized  3l supercharged v6 p380 engine at 375bhp/450nm...   \n",
       "1294696     uncategorized  2.0l 4 cylinders inline turbocharged engine, p...   \n",
       "1311717     uncategorized  2.4l k24a 4 cylinders inline dohc i-vtec, 5 sp...   \n",
       "1310068     uncategorized  super fuel efficient 1.6l 16 valves dohc vvt-i...   \n",
       "1325280     uncategorized  powerful 3.0l v6 engine, 227bhp, 6 speed , key...   \n",
       "\n",
       "                                                  accessories  \\\n",
       "listing_id                                                      \n",
       "1292132     2 x massage/memory/cooling & warmer seat, rear...   \n",
       "1294696     multi function steering, electric tailgate, re...   \n",
       "1311717     cruise control, touchscreen audio, reverse cam...   \n",
       "1310068     leather seats, pioneer dvd audio system with r...   \n",
       "1325280     premium upholstery electric seats. memory seat...   \n",
       "\n",
       "            indicative_price     price  \\\n",
       "listing_id                               \n",
       "1292132                  NaN  193788.0   \n",
       "1294696                  NaN   96800.0   \n",
       "1311717                  NaN   39800.0   \n",
       "1310068                  NaN   44800.0   \n",
       "1325280                  NaN   25800.0   \n",
       "\n",
       "                                                cleaned_title  \n",
       "listing_id                                                     \n",
       "1292132     Land Rover Range Rover Velar 3.0A Si6 R-Dynami...  \n",
       "1294696      Mercedes-Benz C-Class C200 Sport Premium Sunroof  \n",
       "1311717                                    Honda Odyssey 2.4A  \n",
       "1310068                             Toyota Corolla Altis 1.6A  \n",
       "1325280                                           Lexus GS300  \n",
       "\n",
       "[5 rows x 29 columns]"
      ]
     },
     "execution_count": 42,
     "metadata": {},
     "output_type": "execute_result"
    }
   ],
   "source": [
    "data.head()"
   ]
  },
  {
   "cell_type": "markdown",
   "id": "3cc43a94",
   "metadata": {},
   "source": [
    "### 2.1.2 process make"
   ]
  },
  {
   "cell_type": "code",
   "execution_count": 43,
   "id": "0c7dcb55",
   "metadata": {},
   "outputs": [
    {
     "name": "stdout",
     "output_type": "stream",
     "text": [
      "the make num: 1316\n",
      "the make num after cleaning: 0\n"
     ]
    },
    {
     "data": {
      "image/png": "[encoded data removed]",
      "text/plain": [
       "<Figure size 1500x800 with 1 Axes>"
      ]
     },
     "metadata": {},
     "output_type": "display_data"
    }
   ],
   "source": [
    "# process make\n",
    "print(\"the make num:\", data['make'].isnull().sum())\n",
    "\n",
    "# gain the known makes\n",
    "known_makes = data['make'].dropna().unique()\n",
    "\n",
    "# fill the missing values\n",
    "data.loc[data['make'].isnull(), 'make'] = data.loc[data['make'].isnull(), 'cleaned_title'].apply(\n",
    "    lambda x: find_best_match(x.split()[0], known_makes)\n",
    ")\n",
    "\n",
    "\n",
    "print(\"the make num after cleaning:\", data['make'].isnull().sum())\n",
    "\n",
    "plt.figure(figsize=(15, 8))\n",
    "data['make'].value_counts().head(20).plot(kind='bar')\n",
    "plt.title('Top 20 Car Brands (After Advanced Filling)')\n",
    "plt.xlabel('Brand')\n",
    "plt.ylabel('Count')\n",
    "plt.xticks(rotation=45)\n",
    "plt.show()"
   ]
  },
  {
   "cell_type": "markdown",
   "id": "ab44a377",
   "metadata": {},
   "source": [
    "#### 2.1.3 process model"
   ]
  },
  {
   "cell_type": "code",
   "execution_count": 44,
   "id": "b9bd51a9",
   "metadata": {},
   "outputs": [
    {
     "name": "stdout",
     "output_type": "stream",
     "text": [
      "num of unkown model after clean: 0\n"
     ]
    },
    {
     "data": {
      "image/png": "[encoded data removed]",
      "text/plain": [
       "<Figure size 1500x800 with 1 Axes>"
      ]
     },
     "metadata": {},
     "output_type": "display_data"
    },
    {
     "name": "stdout",
     "output_type": "stream",
     "text": [
      "Final number of rows: 25000\n"
     ]
    }
   ],
   "source": [
    "# process model\n",
    "# print(\"\\nnum of lack model:\", data['model'].isnull().sum())\n",
    "\n",
    "# # gain the known models\n",
    "# known_models = data['model'].dropna().unique()\n",
    "\n",
    "# # fill the missing values\n",
    "# data['model'] = data['model'].apply(lambda x: clean_title(str(x)) if pd.notnull(x) else x)\n",
    "\n",
    "# # fill the missing values\n",
    "# for make in data['make'].unique():\n",
    "#     make_models = data[data['make'] == make]['model'].dropna().unique()\n",
    "#     mask = (data['make'] == make) & (data['model'].isnull())\n",
    "#     data.loc[mask, 'model'] = data.loc[mask, 'cleaned_title'].apply(\n",
    "#         lambda x: find_best_match(' '.join(x.split()[1:]), make_models)\n",
    "#     )\n",
    "\n",
    "print(\"num of unkown model after clean:\", data['model'].isnull().sum())\n",
    "\n",
    "plt.figure(figsize=(15, 8))\n",
    "data['model'].value_counts().head(20).plot(kind='bar')\n",
    "plt.title('Top 20 Car Models (After Advanced Filling)')\n",
    "plt.xlabel('Model')\n",
    "plt.ylabel('Count')\n",
    "plt.xticks(rotation=45)\n",
    "plt.show()\n",
    "\n",
    "\n",
    "\n",
    "\n",
    "# drop the cleaned_title column\n",
    "data = data.drop('cleaned_title', axis=1)\n",
    "final_row_count = len(data)\n",
    "print(f\"Final number of rows: {final_row_count}\")\n"
   ]
  },
  {
   "cell_type": "markdown",
   "id": "01799e3a",
   "metadata": {},
   "source": [
    "#### 2.1.4 process discription"
   ]
  },
  {
   "cell_type": "code",
   "execution_count": 45,
   "id": "d01735f4",
   "metadata": {},
   "outputs": [
    {
     "data": {
      "text/html": [
       "<div>\n",
       "<style scoped>\n",
       "    .dataframe tbody tr th:only-of-type {\n",
       "        vertical-align: middle;\n",
       "    }\n",
       "\n",
       "    .dataframe tbody tr th {\n",
       "        vertical-align: top;\n",
       "    }\n",
       "\n",
       "    .dataframe thead th {\n",
       "        text-align: right;\n",
       "    }\n",
       "</style>\n",
       "<table border=\"1\" class=\"dataframe\">\n",
       "  <thead>\n",
       "    <tr style=\"text-align: right;\">\n",
       "      <th></th>\n",
       "      <th>make</th>\n",
       "      <th>model</th>\n",
       "      <th>manufactured</th>\n",
       "      <th>original_reg_date</th>\n",
       "      <th>reg_date</th>\n",
       "      <th>type_of_vehicle</th>\n",
       "      <th>category</th>\n",
       "      <th>transmission</th>\n",
       "      <th>curb_weight</th>\n",
       "      <th>power</th>\n",
       "      <th>...</th>\n",
       "      <th>mileage</th>\n",
       "      <th>omv</th>\n",
       "      <th>arf</th>\n",
       "      <th>opc_scheme</th>\n",
       "      <th>lifespan</th>\n",
       "      <th>eco_category</th>\n",
       "      <th>features</th>\n",
       "      <th>accessories</th>\n",
       "      <th>indicative_price</th>\n",
       "      <th>price</th>\n",
       "    </tr>\n",
       "    <tr>\n",
       "      <th>listing_id</th>\n",
       "      <th></th>\n",
       "      <th></th>\n",
       "      <th></th>\n",
       "      <th></th>\n",
       "      <th></th>\n",
       "      <th></th>\n",
       "      <th></th>\n",
       "      <th></th>\n",
       "      <th></th>\n",
       "      <th></th>\n",
       "      <th></th>\n",
       "      <th></th>\n",
       "      <th></th>\n",
       "      <th></th>\n",
       "      <th></th>\n",
       "      <th></th>\n",
       "      <th></th>\n",
       "      <th></th>\n",
       "      <th></th>\n",
       "      <th></th>\n",
       "      <th></th>\n",
       "    </tr>\n",
       "  </thead>\n",
       "  <tbody>\n",
       "    <tr>\n",
       "      <th>1292132</th>\n",
       "      <td>land rover</td>\n",
       "      <td>range</td>\n",
       "      <td>2018.0</td>\n",
       "      <td>NaN</td>\n",
       "      <td>08-mar-2018</td>\n",
       "      <td>suv</td>\n",
       "      <td>parf car</td>\n",
       "      <td>auto</td>\n",
       "      <td>1884.0</td>\n",
       "      <td>280.0</td>\n",
       "      <td>...</td>\n",
       "      <td>96000.0</td>\n",
       "      <td>88906.0</td>\n",
       "      <td>132031.0</td>\n",
       "      <td>NaN</td>\n",
       "      <td>NaN</td>\n",
       "      <td>uncategorized</td>\n",
       "      <td>3l supercharged v6 p380 engine at 375bhp/450nm...</td>\n",
       "      <td>2 x massage/memory/cooling &amp; warmer seat, rear...</td>\n",
       "      <td>NaN</td>\n",
       "      <td>193788.0</td>\n",
       "    </tr>\n",
       "    <tr>\n",
       "      <th>1294696</th>\n",
       "      <td>mercedes-benz</td>\n",
       "      <td>c200</td>\n",
       "      <td>2017.0</td>\n",
       "      <td>NaN</td>\n",
       "      <td>28-dec-2017</td>\n",
       "      <td>luxury sedan</td>\n",
       "      <td>parf car, premium ad car</td>\n",
       "      <td>auto</td>\n",
       "      <td>1465.0</td>\n",
       "      <td>135.0</td>\n",
       "      <td>...</td>\n",
       "      <td>85680.0</td>\n",
       "      <td>40678.0</td>\n",
       "      <td>43950.0</td>\n",
       "      <td>NaN</td>\n",
       "      <td>NaN</td>\n",
       "      <td>uncategorized</td>\n",
       "      <td>2.0l 4 cylinders inline turbocharged engine, p...</td>\n",
       "      <td>multi function steering, electric tailgate, re...</td>\n",
       "      <td>NaN</td>\n",
       "      <td>96800.0</td>\n",
       "    </tr>\n",
       "    <tr>\n",
       "      <th>1311717</th>\n",
       "      <td>honda</td>\n",
       "      <td>odyssey</td>\n",
       "      <td>2007.0</td>\n",
       "      <td>NaN</td>\n",
       "      <td>19-sep-2007</td>\n",
       "      <td>mpv</td>\n",
       "      <td>coe car, premium ad car, low mileage car</td>\n",
       "      <td>auto</td>\n",
       "      <td>1648.0</td>\n",
       "      <td>118.0</td>\n",
       "      <td>...</td>\n",
       "      <td>138000.0</td>\n",
       "      <td>27994.0</td>\n",
       "      <td>30794.0</td>\n",
       "      <td>NaN</td>\n",
       "      <td>NaN</td>\n",
       "      <td>uncategorized</td>\n",
       "      <td>2.4l k24a 4 cylinders inline dohc i-vtec, 5 sp...</td>\n",
       "      <td>cruise control, touchscreen audio, reverse cam...</td>\n",
       "      <td>NaN</td>\n",
       "      <td>39800.0</td>\n",
       "    </tr>\n",
       "    <tr>\n",
       "      <th>1310068</th>\n",
       "      <td>toyota</td>\n",
       "      <td>altis</td>\n",
       "      <td>2008.0</td>\n",
       "      <td>NaN</td>\n",
       "      <td>15-dec-2008</td>\n",
       "      <td>mid-sized sedan</td>\n",
       "      <td>coe car, premium ad car</td>\n",
       "      <td>auto</td>\n",
       "      <td>1195.0</td>\n",
       "      <td>80.0</td>\n",
       "      <td>...</td>\n",
       "      <td>160000.0</td>\n",
       "      <td>16084.0</td>\n",
       "      <td>16084.0</td>\n",
       "      <td>NaN</td>\n",
       "      <td>NaN</td>\n",
       "      <td>uncategorized</td>\n",
       "      <td>super fuel efficient 1.6l 16 valves dohc vvt-i...</td>\n",
       "      <td>leather seats, pioneer dvd audio system with r...</td>\n",
       "      <td>NaN</td>\n",
       "      <td>44800.0</td>\n",
       "    </tr>\n",
       "    <tr>\n",
       "      <th>1325280</th>\n",
       "      <td>lexus</td>\n",
       "      <td>gs</td>\n",
       "      <td>2006.0</td>\n",
       "      <td>NaN</td>\n",
       "      <td>22-dec-2006</td>\n",
       "      <td>luxury sedan</td>\n",
       "      <td>coe car, premium ad car</td>\n",
       "      <td>auto</td>\n",
       "      <td>1660.0</td>\n",
       "      <td>183.0</td>\n",
       "      <td>...</td>\n",
       "      <td>183000.0</td>\n",
       "      <td>50414.0</td>\n",
       "      <td>55456.0</td>\n",
       "      <td>NaN</td>\n",
       "      <td>NaN</td>\n",
       "      <td>uncategorized</td>\n",
       "      <td>powerful 3.0l v6 engine, 227bhp, 6 speed , key...</td>\n",
       "      <td>premium upholstery electric seats. memory seat...</td>\n",
       "      <td>NaN</td>\n",
       "      <td>25800.0</td>\n",
       "    </tr>\n",
       "  </tbody>\n",
       "</table>\n",
       "<p>5 rows × 27 columns</p>\n",
       "</div>"
      ],
      "text/plain": [
       "                     make    model  manufactured original_reg_date  \\\n",
       "listing_id                                                           \n",
       "1292132        land rover    range        2018.0               NaN   \n",
       "1294696     mercedes-benz     c200        2017.0               NaN   \n",
       "1311717             honda  odyssey        2007.0               NaN   \n",
       "1310068            toyota    altis        2008.0               NaN   \n",
       "1325280             lexus       gs        2006.0               NaN   \n",
       "\n",
       "               reg_date  type_of_vehicle  \\\n",
       "listing_id                                 \n",
       "1292132     08-mar-2018              suv   \n",
       "1294696     28-dec-2017     luxury sedan   \n",
       "1311717     19-sep-2007              mpv   \n",
       "1310068     15-dec-2008  mid-sized sedan   \n",
       "1325280     22-dec-2006     luxury sedan   \n",
       "\n",
       "                                            category transmission  \\\n",
       "listing_id                                                          \n",
       "1292132                                     parf car         auto   \n",
       "1294696                     parf car, premium ad car         auto   \n",
       "1311717     coe car, premium ad car, low mileage car         auto   \n",
       "1310068                      coe car, premium ad car         auto   \n",
       "1325280                      coe car, premium ad car         auto   \n",
       "\n",
       "            curb_weight  power  ...   mileage      omv       arf  opc_scheme  \\\n",
       "listing_id                      ...                                            \n",
       "1292132          1884.0  280.0  ...   96000.0  88906.0  132031.0         NaN   \n",
       "1294696          1465.0  135.0  ...   85680.0  40678.0   43950.0         NaN   \n",
       "1311717          1648.0  118.0  ...  138000.0  27994.0   30794.0         NaN   \n",
       "1310068          1195.0   80.0  ...  160000.0  16084.0   16084.0         NaN   \n",
       "1325280          1660.0  183.0  ...  183000.0  50414.0   55456.0         NaN   \n",
       "\n",
       "            lifespan   eco_category  \\\n",
       "listing_id                            \n",
       "1292132          NaN  uncategorized   \n",
       "1294696          NaN  uncategorized   \n",
       "1311717          NaN  uncategorized   \n",
       "1310068          NaN  uncategorized   \n",
       "1325280          NaN  uncategorized   \n",
       "\n",
       "                                                     features  \\\n",
       "listing_id                                                      \n",
       "1292132     3l supercharged v6 p380 engine at 375bhp/450nm...   \n",
       "1294696     2.0l 4 cylinders inline turbocharged engine, p...   \n",
       "1311717     2.4l k24a 4 cylinders inline dohc i-vtec, 5 sp...   \n",
       "1310068     super fuel efficient 1.6l 16 valves dohc vvt-i...   \n",
       "1325280     powerful 3.0l v6 engine, 227bhp, 6 speed , key...   \n",
       "\n",
       "                                                  accessories  \\\n",
       "listing_id                                                      \n",
       "1292132     2 x massage/memory/cooling & warmer seat, rear...   \n",
       "1294696     multi function steering, electric tailgate, re...   \n",
       "1311717     cruise control, touchscreen audio, reverse cam...   \n",
       "1310068     leather seats, pioneer dvd audio system with r...   \n",
       "1325280     premium upholstery electric seats. memory seat...   \n",
       "\n",
       "            indicative_price     price  \n",
       "listing_id                              \n",
       "1292132                  NaN  193788.0  \n",
       "1294696                  NaN   96800.0  \n",
       "1311717                  NaN   39800.0  \n",
       "1310068                  NaN   44800.0  \n",
       "1325280                  NaN   25800.0  \n",
       "\n",
       "[5 rows x 27 columns]"
      ]
     },
     "execution_count": 45,
     "metadata": {},
     "output_type": "execute_result"
    }
   ],
   "source": [
    "# drop discription\n",
    "data = data.drop('description', axis=1)\n",
    "data.head()"
   ]
  },
  {
   "cell_type": "markdown",
   "id": "a026257b",
   "metadata": {},
   "source": [
    "#### 2.1.5 process mnufactures"
   ]
  },
  {
   "cell_type": "code",
   "execution_count": 46,
   "id": "584293ef",
   "metadata": {},
   "outputs": [
    {
     "name": "stdout",
     "output_type": "stream",
     "text": [
      "Before processing, missing manufactured value: 7\n"
     ]
    }
   ],
   "source": [
    "data['manufactured'] = data['manufactured'].astype('Int64')\n",
    "missing_count = sum(data['manufactured'].isnull())\n",
    "print(f\"Before processing, missing manufactured value: {missing_count}\")"
   ]
  },
  {
   "cell_type": "code",
   "execution_count": 47,
   "id": "8a15c6f5",
   "metadata": {},
   "outputs": [
    {
     "name": "stdout",
     "output_type": "stream",
     "text": [
      "Initial missing manufactured values: 7\n",
      "Final number of rows: 25000\n"
     ]
    }
   ],
   "source": [
    "data['manufactured'] = pd.to_numeric(data['manufactured'], errors='coerce')\n",
    "\n",
    "# 打印初始缺失值数量\n",
    "initial_missing = data['manufactured'].isnull().sum()\n",
    "print(f\"Initial missing manufactured values: {initial_missing}\")\n",
    "\n",
    "# 定义一个函数来找到最相似的类别\n",
    "def find_similar_category(row, data):\n",
    "    # 这里您需要定义相似性的标准。例如，我们可以使用 'type_of_vehicle'\n",
    "    vehicle_type = row['type_of_vehicle']\n",
    "    \n",
    "    # 找到同类型车辆中价格最接近的\n",
    "    similar = data[data['type_of_vehicle'] == vehicle_type].copy()\n",
    "    return similar.iloc[0]['manufactured']\n",
    "\n",
    "# 对于缺失的 'manufactured' 值，找到并填充相似类别的平均值\n",
    "mask = data['manufactured'].isnull()\n",
    "data.loc[mask, 'manufactured'] = data[mask].apply(lambda row: find_similar_category(row, data), axis=1)\n",
    "\n",
    "# 如果还有缺失值，用该类型车辆的平均制造年份填充\n",
    "mean_manufactured = data.groupby('type_of_vehicle')['manufactured'].transform('mean')\n",
    "data['manufactured'].fillna(mean_manufactured, inplace=True)\n",
    "\n",
    "# 如果仍然有缺失值（极少数情况），用整体平均值填充\n",
    "data['manufactured'].fillna(data['manufactured'].mean(), inplace=True)\n",
    "\n",
    "# 将 'manufactured' 转换为整数类型\n",
    "data['manufactured'] = data['manufactured'].astype('Int64')\n",
    "\n",
    "# 打印处理后的缺失值数量\n",
    "final_missing = data['manufactured'].isnull().sum()\n",
    "final_row_count = len(data)\n",
    "print(f\"Final number of rows: {final_row_count}\")"
   ]
  },
  {
   "cell_type": "markdown",
   "id": "fcc4cbcd",
   "metadata": {},
   "source": [
    "#### 2.1.6 process original_reg_date\t"
   ]
  },
  {
   "cell_type": "code",
   "execution_count": 48,
   "id": "506794db",
   "metadata": {},
   "outputs": [
    {
     "data": {
      "text/html": [
       "<div>\n",
       "<style scoped>\n",
       "    .dataframe tbody tr th:only-of-type {\n",
       "        vertical-align: middle;\n",
       "    }\n",
       "\n",
       "    .dataframe tbody tr th {\n",
       "        vertical-align: top;\n",
       "    }\n",
       "\n",
       "    .dataframe thead th {\n",
       "        text-align: right;\n",
       "    }\n",
       "</style>\n",
       "<table border=\"1\" class=\"dataframe\">\n",
       "  <thead>\n",
       "    <tr style=\"text-align: right;\">\n",
       "      <th></th>\n",
       "      <th>make</th>\n",
       "      <th>model</th>\n",
       "      <th>manufactured</th>\n",
       "      <th>reg_date</th>\n",
       "      <th>type_of_vehicle</th>\n",
       "      <th>category</th>\n",
       "      <th>transmission</th>\n",
       "      <th>curb_weight</th>\n",
       "      <th>power</th>\n",
       "      <th>fuel_type</th>\n",
       "      <th>...</th>\n",
       "      <th>mileage</th>\n",
       "      <th>omv</th>\n",
       "      <th>arf</th>\n",
       "      <th>opc_scheme</th>\n",
       "      <th>lifespan</th>\n",
       "      <th>eco_category</th>\n",
       "      <th>features</th>\n",
       "      <th>accessories</th>\n",
       "      <th>indicative_price</th>\n",
       "      <th>price</th>\n",
       "    </tr>\n",
       "    <tr>\n",
       "      <th>listing_id</th>\n",
       "      <th></th>\n",
       "      <th></th>\n",
       "      <th></th>\n",
       "      <th></th>\n",
       "      <th></th>\n",
       "      <th></th>\n",
       "      <th></th>\n",
       "      <th></th>\n",
       "      <th></th>\n",
       "      <th></th>\n",
       "      <th></th>\n",
       "      <th></th>\n",
       "      <th></th>\n",
       "      <th></th>\n",
       "      <th></th>\n",
       "      <th></th>\n",
       "      <th></th>\n",
       "      <th></th>\n",
       "      <th></th>\n",
       "      <th></th>\n",
       "      <th></th>\n",
       "    </tr>\n",
       "  </thead>\n",
       "  <tbody>\n",
       "    <tr>\n",
       "      <th>1292132</th>\n",
       "      <td>land rover</td>\n",
       "      <td>range</td>\n",
       "      <td>2018</td>\n",
       "      <td>08-mar-2018</td>\n",
       "      <td>suv</td>\n",
       "      <td>parf car</td>\n",
       "      <td>auto</td>\n",
       "      <td>1884.0</td>\n",
       "      <td>280.0</td>\n",
       "      <td>NaN</td>\n",
       "      <td>...</td>\n",
       "      <td>96000.0</td>\n",
       "      <td>88906.0</td>\n",
       "      <td>132031.0</td>\n",
       "      <td>NaN</td>\n",
       "      <td>NaN</td>\n",
       "      <td>uncategorized</td>\n",
       "      <td>3l supercharged v6 p380 engine at 375bhp/450nm...</td>\n",
       "      <td>2 x massage/memory/cooling &amp; warmer seat, rear...</td>\n",
       "      <td>NaN</td>\n",
       "      <td>193788.0</td>\n",
       "    </tr>\n",
       "    <tr>\n",
       "      <th>1294696</th>\n",
       "      <td>mercedes-benz</td>\n",
       "      <td>c200</td>\n",
       "      <td>2017</td>\n",
       "      <td>28-dec-2017</td>\n",
       "      <td>luxury sedan</td>\n",
       "      <td>parf car, premium ad car</td>\n",
       "      <td>auto</td>\n",
       "      <td>1465.0</td>\n",
       "      <td>135.0</td>\n",
       "      <td>NaN</td>\n",
       "      <td>...</td>\n",
       "      <td>85680.0</td>\n",
       "      <td>40678.0</td>\n",
       "      <td>43950.0</td>\n",
       "      <td>NaN</td>\n",
       "      <td>NaN</td>\n",
       "      <td>uncategorized</td>\n",
       "      <td>2.0l 4 cylinders inline turbocharged engine, p...</td>\n",
       "      <td>multi function steering, electric tailgate, re...</td>\n",
       "      <td>NaN</td>\n",
       "      <td>96800.0</td>\n",
       "    </tr>\n",
       "    <tr>\n",
       "      <th>1311717</th>\n",
       "      <td>honda</td>\n",
       "      <td>odyssey</td>\n",
       "      <td>2007</td>\n",
       "      <td>19-sep-2007</td>\n",
       "      <td>mpv</td>\n",
       "      <td>coe car, premium ad car, low mileage car</td>\n",
       "      <td>auto</td>\n",
       "      <td>1648.0</td>\n",
       "      <td>118.0</td>\n",
       "      <td>NaN</td>\n",
       "      <td>...</td>\n",
       "      <td>138000.0</td>\n",
       "      <td>27994.0</td>\n",
       "      <td>30794.0</td>\n",
       "      <td>NaN</td>\n",
       "      <td>NaN</td>\n",
       "      <td>uncategorized</td>\n",
       "      <td>2.4l k24a 4 cylinders inline dohc i-vtec, 5 sp...</td>\n",
       "      <td>cruise control, touchscreen audio, reverse cam...</td>\n",
       "      <td>NaN</td>\n",
       "      <td>39800.0</td>\n",
       "    </tr>\n",
       "    <tr>\n",
       "      <th>1310068</th>\n",
       "      <td>toyota</td>\n",
       "      <td>altis</td>\n",
       "      <td>2008</td>\n",
       "      <td>15-dec-2008</td>\n",
       "      <td>mid-sized sedan</td>\n",
       "      <td>coe car, premium ad car</td>\n",
       "      <td>auto</td>\n",
       "      <td>1195.0</td>\n",
       "      <td>80.0</td>\n",
       "      <td>NaN</td>\n",
       "      <td>...</td>\n",
       "      <td>160000.0</td>\n",
       "      <td>16084.0</td>\n",
       "      <td>16084.0</td>\n",
       "      <td>NaN</td>\n",
       "      <td>NaN</td>\n",
       "      <td>uncategorized</td>\n",
       "      <td>super fuel efficient 1.6l 16 valves dohc vvt-i...</td>\n",
       "      <td>leather seats, pioneer dvd audio system with r...</td>\n",
       "      <td>NaN</td>\n",
       "      <td>44800.0</td>\n",
       "    </tr>\n",
       "    <tr>\n",
       "      <th>1325280</th>\n",
       "      <td>lexus</td>\n",
       "      <td>gs</td>\n",
       "      <td>2006</td>\n",
       "      <td>22-dec-2006</td>\n",
       "      <td>luxury sedan</td>\n",
       "      <td>coe car, premium ad car</td>\n",
       "      <td>auto</td>\n",
       "      <td>1660.0</td>\n",
       "      <td>183.0</td>\n",
       "      <td>NaN</td>\n",
       "      <td>...</td>\n",
       "      <td>183000.0</td>\n",
       "      <td>50414.0</td>\n",
       "      <td>55456.0</td>\n",
       "      <td>NaN</td>\n",
       "      <td>NaN</td>\n",
       "      <td>uncategorized</td>\n",
       "      <td>powerful 3.0l v6 engine, 227bhp, 6 speed , key...</td>\n",
       "      <td>premium upholstery electric seats. memory seat...</td>\n",
       "      <td>NaN</td>\n",
       "      <td>25800.0</td>\n",
       "    </tr>\n",
       "  </tbody>\n",
       "</table>\n",
       "<p>5 rows × 26 columns</p>\n",
       "</div>"
      ],
      "text/plain": [
       "                     make    model  manufactured     reg_date  \\\n",
       "listing_id                                                      \n",
       "1292132        land rover    range          2018  08-mar-2018   \n",
       "1294696     mercedes-benz     c200          2017  28-dec-2017   \n",
       "1311717             honda  odyssey          2007  19-sep-2007   \n",
       "1310068            toyota    altis          2008  15-dec-2008   \n",
       "1325280             lexus       gs          2006  22-dec-2006   \n",
       "\n",
       "            type_of_vehicle                                  category  \\\n",
       "listing_id                                                              \n",
       "1292132                 suv                                  parf car   \n",
       "1294696        luxury sedan                  parf car, premium ad car   \n",
       "1311717                 mpv  coe car, premium ad car, low mileage car   \n",
       "1310068     mid-sized sedan                   coe car, premium ad car   \n",
       "1325280        luxury sedan                   coe car, premium ad car   \n",
       "\n",
       "           transmission  curb_weight  power fuel_type  ...   mileage      omv  \\\n",
       "listing_id                                             ...                      \n",
       "1292132            auto       1884.0  280.0       NaN  ...   96000.0  88906.0   \n",
       "1294696            auto       1465.0  135.0       NaN  ...   85680.0  40678.0   \n",
       "1311717            auto       1648.0  118.0       NaN  ...  138000.0  27994.0   \n",
       "1310068            auto       1195.0   80.0       NaN  ...  160000.0  16084.0   \n",
       "1325280            auto       1660.0  183.0       NaN  ...  183000.0  50414.0   \n",
       "\n",
       "                 arf  opc_scheme  lifespan   eco_category  \\\n",
       "listing_id                                                  \n",
       "1292132     132031.0         NaN       NaN  uncategorized   \n",
       "1294696      43950.0         NaN       NaN  uncategorized   \n",
       "1311717      30794.0         NaN       NaN  uncategorized   \n",
       "1310068      16084.0         NaN       NaN  uncategorized   \n",
       "1325280      55456.0         NaN       NaN  uncategorized   \n",
       "\n",
       "                                                     features  \\\n",
       "listing_id                                                      \n",
       "1292132     3l supercharged v6 p380 engine at 375bhp/450nm...   \n",
       "1294696     2.0l 4 cylinders inline turbocharged engine, p...   \n",
       "1311717     2.4l k24a 4 cylinders inline dohc i-vtec, 5 sp...   \n",
       "1310068     super fuel efficient 1.6l 16 valves dohc vvt-i...   \n",
       "1325280     powerful 3.0l v6 engine, 227bhp, 6 speed , key...   \n",
       "\n",
       "                                                  accessories  \\\n",
       "listing_id                                                      \n",
       "1292132     2 x massage/memory/cooling & warmer seat, rear...   \n",
       "1294696     multi function steering, electric tailgate, re...   \n",
       "1311717     cruise control, touchscreen audio, reverse cam...   \n",
       "1310068     leather seats, pioneer dvd audio system with r...   \n",
       "1325280     premium upholstery electric seats. memory seat...   \n",
       "\n",
       "            indicative_price     price  \n",
       "listing_id                              \n",
       "1292132                  NaN  193788.0  \n",
       "1294696                  NaN   96800.0  \n",
       "1311717                  NaN   39800.0  \n",
       "1310068                  NaN   44800.0  \n",
       "1325280                  NaN   25800.0  \n",
       "\n",
       "[5 rows x 26 columns]"
      ]
     },
     "execution_count": 48,
     "metadata": {},
     "output_type": "execute_result"
    }
   ],
   "source": [
    "# drop the original_reg_date\t\n",
    "data = data.drop('original_reg_date', axis=1)\n",
    "data.head()"
   ]
  },
  {
   "cell_type": "markdown",
   "id": "81692bed-3fa3-4a4a-8889-a48339e241bc",
   "metadata": {},
   "source": [
    "#### 2.1.6 process reg_date\tand create vehicle age"
   ]
  },
  {
   "cell_type": "code",
   "execution_count": 49,
   "id": "f0c50b80",
   "metadata": {},
   "outputs": [
    {
     "name": "stdout",
     "output_type": "stream",
     "text": [
      "Final number of rows: 25000\n"
     ]
    }
   ],
   "source": [
    "# 5. process the reg_date\n",
    "data['reg_date'] = pd.to_datetime(data['reg_date'])\n",
    "# plt.figure(figsize=(12, 6))\n",
    "# # sns.histplot(data['reg_date'].dt.year, kde=True, bins=30)\n",
    "# plt.title('Distribution of Registration Year')\n",
    "# plt.xlabel('Year')\n",
    "# plt.ylabel('Count')\n",
    "# plt.show()\n",
    "\n",
    "# compute the vehicle age\n",
    "current_date = pd.Timestamp.now()\n",
    "data['vehicle_age'] = (current_date - data['reg_date']).astype('<m8[Y]')\n",
    "data = data.drop('reg_date', axis=1)\n",
    "# data = data.drop('manufactured', axis=1)\n",
    "data.head()\n",
    "final_row_count = len(data)\n",
    "print(f\"Final number of rows: {final_row_count}\")\n"
   ]
  },
  {
   "cell_type": "markdown",
   "id": "16329aa3-3f03-4c0a-9420-ce64a057bdd4",
   "metadata": {},
   "source": [
    "### 2.1.7 Process 'type_of_vehicle' column"
   ]
  },
  {
   "cell_type": "code",
   "execution_count": 50,
   "id": "080eb640-2552-427c-9727-d017f8026f15",
   "metadata": {},
   "outputs": [
    {
     "name": "stdout",
     "output_type": "stream",
     "text": [
      "suv               5905\n",
      "luxury_sedan      4585\n",
      "sports_car        3257\n",
      "midsized_sedan    3097\n",
      "hatchback         2691\n",
      "mpv               2588\n",
      "van               1194\n",
      "truck              964\n",
      "stationwagon       469\n",
      "bus_mini_bus       201\n",
      "others              49\n",
      "Name: type_of_vehicle, dtype: int64\n"
     ]
    },
    {
     "data": {
      "image/png": "[encoded data removed]",
      "text/plain": [
       "<Figure size 1200x600 with 1 Axes>"
      ]
     },
     "metadata": {},
     "output_type": "display_data"
    },
    {
     "name": "stdout",
     "output_type": "stream",
     "text": [
      "Final number of rows: 25000\n"
     ]
    }
   ],
   "source": [
    "def clean_string(s):\n",
    "    # 转换为小写\n",
    "    s = s.lower()\n",
    "    # 将斜杠替换为空格\n",
    "    s = s.replace('/', '_')\n",
    "    # 移除反斜杠和其他特殊字符，但保留空格\n",
    "    s = re.sub(r'[^\\w\\s]', '', s)\n",
    "    # 删除多余的空格\n",
    "    s = re.sub(r'\\s+', '_', s)\n",
    "    # 删除前后的空格\n",
    "    return s.strip()\n",
    "\n",
    "# 应用清理函数\n",
    "data['type_of_vehicle'] = data['type_of_vehicle'].apply(clean_string)\n",
    "\n",
    "# 分割复合类别\n",
    "data['type_of_vehicle'] = data['type_of_vehicle'].str.split()\n",
    "data = data.explode('type_of_vehicle')\n",
    "\n",
    "# 显示清理后的数据分布\n",
    "print(data['type_of_vehicle'].value_counts())\n",
    "\n",
    "# 绘制柱状图\n",
    "plt.figure(figsize=(12, 6))\n",
    "top_15 = data['type_of_vehicle'].value_counts().nlargest(15)\n",
    "top_15.plot(kind='bar')\n",
    "plt.title('Distribution of Top 15 Vehicle Types')\n",
    "plt.xlabel('Vehicle Type')\n",
    "plt.ylabel('Count')\n",
    "plt.xticks(rotation=45, ha='right')\n",
    "plt.tight_layout()\n",
    "plt.show()\n",
    "final_row_count = len(data)\n",
    "print(f\"Final number of rows: {final_row_count}\")"
   ]
  },
  {
   "cell_type": "code",
   "execution_count": 51,
   "id": "c84900ce-1495-466f-98a7-d192ca837584",
   "metadata": {},
   "outputs": [
    {
     "name": "stdout",
     "output_type": "stream",
     "text": [
      "Final number of rows: 25000\n"
     ]
    }
   ],
   "source": [
    "data_type_of_vehicle_encoded = pd.get_dummies(data['type_of_vehicle'], prefix='vehicle_type').astype(int)\n",
    "\n",
    "# 获取 type_of_vehicle 列的索引位置\n",
    "col_idx = data.columns.get_loc('type_of_vehicle')\n",
    "\n",
    "# 删除原有的 type_of_vehicle 列\n",
    "# data.drop('type_of_vehicle', axis=1, inplace=True)\n",
    "\n",
    "# 将独热编码的列插入到原来 type_of_vehicle 列所在的位置\n",
    "for i, col in enumerate(data_type_of_vehicle_encoded.columns):\n",
    "    data.insert(col_idx + i, col, data_type_of_vehicle_encoded[col])\n",
    "data.head()\n",
    "final_row_count = len(data)\n",
    "print(f\"Final number of rows: {final_row_count}\")\n"
   ]
  },
  {
   "cell_type": "markdown",
   "id": "e3ed5011-222c-409e-a801-a998efdabd7c",
   "metadata": {},
   "source": [
    "#### 2.1.8: Process of 'category' column"
   ]
  },
  {
   "cell_type": "code",
   "execution_count": 52,
   "id": "8ba3d7a2-dc9b-4483-a240-730810822881",
   "metadata": {},
   "outputs": [
    {
     "data": {
      "image/png": "[encoded data removed]",
      "text/plain": [
       "<Figure size 1500x800 with 1 Axes>"
      ]
     },
     "metadata": {},
     "output_type": "display_data"
    },
    {
     "name": "stdout",
     "output_type": "stream",
     "text": [
      "{'parf car', 'coe car', 'almost new car', 'sta evaluated car', 'opc car', 'vintage cars', 'electric cars', 'premium ad car', 'direct owner sale', 'low mileage car', 'sgcarmart warranty cars', 'hybrid cars', 'consignment car', 'rare & exotic', 'imported used vehicle'}\n",
      "Final number of rows: 25000\n"
     ]
    }
   ],
   "source": [
    "# 替换掉 category 列中的 '-'，如果有的话\n",
    "data['category'] = data['category'].replace('-', '')\n",
    "\n",
    "# 将 category 列按逗号分割成列表\n",
    "categories_split = data['category'].apply(lambda x: [item.strip() for item in x.split(',')] if isinstance(x, str) and x else [])\n",
    "\n",
    "# output all the categories\n",
    "categories = set([item for sublist in categories_split for item in sublist])\n",
    "\n",
    "# 统计对应的类别数量，绘制柱状图\n",
    "category_counts = pd.Series([item for sublist in categories_split for item in sublist]).value_counts()\n",
    "plt.figure(figsize=(15, 8))\n",
    "category_counts.plot(kind='bar')\n",
    "plt.title('Distribution of Categories')\n",
    "plt.xlabel('Category')\n",
    "plt.ylabel('Count')\n",
    "plt.xticks(rotation=45)\n",
    "plt.show()\n",
    "print(categories)\n",
    "final_row_count = len(data)\n",
    "print(f\"Final number of rows: {final_row_count}\")\n"
   ]
  },
  {
   "cell_type": "code",
   "execution_count": 53,
   "id": "2d5cb15f",
   "metadata": {},
   "outputs": [
    {
     "name": "stdout",
     "output_type": "stream",
     "text": [
      "Final number of rows: 25000\n"
     ]
    }
   ],
   "source": [
    "# 使用 MultiLabelBinarizer 对类别进行 One-Hot 编码\n",
    "mlb = MultiLabelBinarizer()\n",
    "category_encoded = mlb.fit_transform(categories_split)\n",
    "\n",
    "# 将 One-Hot 编码后的列创建为新的 DataFrame\n",
    "category_df = pd.DataFrame(category_encoded, columns=[str(c) for c in mlb.classes_])\n",
    "\n",
    "# 确保 category_df 的索引与 data 一致\n",
    "category_df = category_df.reset_index(drop=True)\n",
    "data = data.reset_index(drop=True)\n",
    "\n",
    "# 获取 category 列的索引位置\n",
    "col_idx = data.columns.get_loc('category')\n",
    "\n",
    "# 删除原有的 category 列\n",
    "data.drop('category', axis=1, inplace=True)\n",
    "\n",
    "# 将独热编码的列插入到原来 category 列所在的位置\n",
    "for i, col in enumerate(category_df.columns):\n",
    "    data.insert(col_idx + i, col, category_df[col])\n",
    "\n",
    "# 用0填充NaN值，避免转换时出现 NaN 错误\n",
    "data[mlb.classes_] = data[mlb.classes_].fillna(0)\n",
    "\n",
    "# 确保所有类型都为整数\n",
    "data[mlb.classes_] = data[mlb.classes_].astype(int)\n",
    "\n",
    "# 查看新的 DataFrame\n",
    "data.head()\n",
    "final_row_count = len(data)\n",
    "print(f\"Final number of rows: {final_row_count}\")"
   ]
  },
  {
   "cell_type": "markdown",
   "id": "0591175f-08a2-49f1-9d74-4575cc94feed",
   "metadata": {},
   "source": [
    "#### 2.1.9: Process of 'transmission' column"
   ]
  },
  {
   "cell_type": "code",
   "execution_count": 54,
   "id": "0f4e0c7d-7d1e-4e66-80f7-2fcf05e4d078",
   "metadata": {},
   "outputs": [
    {
     "data": {
      "text/plain": [
       "auto      23301\n",
       "manual     1699\n",
       "Name: transmission, dtype: int64"
      ]
     },
     "execution_count": 54,
     "metadata": {},
     "output_type": "execute_result"
    }
   ],
   "source": [
    "data['transmission'].value_counts()"
   ]
  },
  {
   "cell_type": "code",
   "execution_count": 55,
   "id": "36cfd13b-60ca-4763-9ba1-1e8b2a2f34c8",
   "metadata": {},
   "outputs": [],
   "source": [
    "data_transmission_encoded = pd.get_dummies(data['transmission'], prefix='transmission_type').astype(int)\n",
    "\n",
    "# 获取transmission列的索引位置\n",
    "col_index = data.columns.get_loc('transmission')\n",
    "\n",
    "# 删除原有的transmission列\n",
    "data.drop('transmission',axis=1,inplace=True)\n",
    "\n",
    "# 将独热编码的列插入到原来的transmission列所在的位置\n",
    "for i, col in enumerate(data_transmission_encoded.columns):\n",
    "    data.insert(col_idx + i, col, data_transmission_encoded[col])"
   ]
  },
  {
   "cell_type": "code",
   "execution_count": 56,
   "id": "cd6d401b-5c9e-4d75-8a66-ea19e9f71cb4",
   "metadata": {},
   "outputs": [
    {
     "data": {
      "text/html": [
       "<div>\n",
       "<style scoped>\n",
       "    .dataframe tbody tr th:only-of-type {\n",
       "        vertical-align: middle;\n",
       "    }\n",
       "\n",
       "    .dataframe tbody tr th {\n",
       "        vertical-align: top;\n",
       "    }\n",
       "\n",
       "    .dataframe thead th {\n",
       "        text-align: right;\n",
       "    }\n",
       "</style>\n",
       "<table border=\"1\" class=\"dataframe\">\n",
       "  <thead>\n",
       "    <tr style=\"text-align: right;\">\n",
       "      <th></th>\n",
       "      <th>make</th>\n",
       "      <th>model</th>\n",
       "      <th>manufactured</th>\n",
       "      <th>vehicle_type_bus_mini_bus</th>\n",
       "      <th>vehicle_type_hatchback</th>\n",
       "      <th>vehicle_type_luxury_sedan</th>\n",
       "      <th>vehicle_type_midsized_sedan</th>\n",
       "      <th>vehicle_type_mpv</th>\n",
       "      <th>vehicle_type_others</th>\n",
       "      <th>vehicle_type_sports_car</th>\n",
       "      <th>...</th>\n",
       "      <th>omv</th>\n",
       "      <th>arf</th>\n",
       "      <th>opc_scheme</th>\n",
       "      <th>lifespan</th>\n",
       "      <th>eco_category</th>\n",
       "      <th>features</th>\n",
       "      <th>accessories</th>\n",
       "      <th>indicative_price</th>\n",
       "      <th>price</th>\n",
       "      <th>vehicle_age</th>\n",
       "    </tr>\n",
       "  </thead>\n",
       "  <tbody>\n",
       "    <tr>\n",
       "      <th>0</th>\n",
       "      <td>land rover</td>\n",
       "      <td>range</td>\n",
       "      <td>2018</td>\n",
       "      <td>0</td>\n",
       "      <td>0</td>\n",
       "      <td>0</td>\n",
       "      <td>0</td>\n",
       "      <td>0</td>\n",
       "      <td>0</td>\n",
       "      <td>0</td>\n",
       "      <td>...</td>\n",
       "      <td>88906.0</td>\n",
       "      <td>132031.0</td>\n",
       "      <td>NaN</td>\n",
       "      <td>NaN</td>\n",
       "      <td>uncategorized</td>\n",
       "      <td>3l supercharged v6 p380 engine at 375bhp/450nm...</td>\n",
       "      <td>2 x massage/memory/cooling &amp; warmer seat, rear...</td>\n",
       "      <td>NaN</td>\n",
       "      <td>193788.0</td>\n",
       "      <td>6.0</td>\n",
       "    </tr>\n",
       "    <tr>\n",
       "      <th>1</th>\n",
       "      <td>mercedes-benz</td>\n",
       "      <td>c200</td>\n",
       "      <td>2017</td>\n",
       "      <td>0</td>\n",
       "      <td>0</td>\n",
       "      <td>1</td>\n",
       "      <td>0</td>\n",
       "      <td>0</td>\n",
       "      <td>0</td>\n",
       "      <td>0</td>\n",
       "      <td>...</td>\n",
       "      <td>40678.0</td>\n",
       "      <td>43950.0</td>\n",
       "      <td>NaN</td>\n",
       "      <td>NaN</td>\n",
       "      <td>uncategorized</td>\n",
       "      <td>2.0l 4 cylinders inline turbocharged engine, p...</td>\n",
       "      <td>multi function steering, electric tailgate, re...</td>\n",
       "      <td>NaN</td>\n",
       "      <td>96800.0</td>\n",
       "      <td>6.0</td>\n",
       "    </tr>\n",
       "    <tr>\n",
       "      <th>2</th>\n",
       "      <td>honda</td>\n",
       "      <td>odyssey</td>\n",
       "      <td>2007</td>\n",
       "      <td>0</td>\n",
       "      <td>0</td>\n",
       "      <td>0</td>\n",
       "      <td>0</td>\n",
       "      <td>1</td>\n",
       "      <td>0</td>\n",
       "      <td>0</td>\n",
       "      <td>...</td>\n",
       "      <td>27994.0</td>\n",
       "      <td>30794.0</td>\n",
       "      <td>NaN</td>\n",
       "      <td>NaN</td>\n",
       "      <td>uncategorized</td>\n",
       "      <td>2.4l k24a 4 cylinders inline dohc i-vtec, 5 sp...</td>\n",
       "      <td>cruise control, touchscreen audio, reverse cam...</td>\n",
       "      <td>NaN</td>\n",
       "      <td>39800.0</td>\n",
       "      <td>17.0</td>\n",
       "    </tr>\n",
       "    <tr>\n",
       "      <th>3</th>\n",
       "      <td>toyota</td>\n",
       "      <td>altis</td>\n",
       "      <td>2008</td>\n",
       "      <td>0</td>\n",
       "      <td>0</td>\n",
       "      <td>0</td>\n",
       "      <td>1</td>\n",
       "      <td>0</td>\n",
       "      <td>0</td>\n",
       "      <td>0</td>\n",
       "      <td>...</td>\n",
       "      <td>16084.0</td>\n",
       "      <td>16084.0</td>\n",
       "      <td>NaN</td>\n",
       "      <td>NaN</td>\n",
       "      <td>uncategorized</td>\n",
       "      <td>super fuel efficient 1.6l 16 valves dohc vvt-i...</td>\n",
       "      <td>leather seats, pioneer dvd audio system with r...</td>\n",
       "      <td>NaN</td>\n",
       "      <td>44800.0</td>\n",
       "      <td>15.0</td>\n",
       "    </tr>\n",
       "    <tr>\n",
       "      <th>4</th>\n",
       "      <td>lexus</td>\n",
       "      <td>gs</td>\n",
       "      <td>2006</td>\n",
       "      <td>0</td>\n",
       "      <td>0</td>\n",
       "      <td>1</td>\n",
       "      <td>0</td>\n",
       "      <td>0</td>\n",
       "      <td>0</td>\n",
       "      <td>0</td>\n",
       "      <td>...</td>\n",
       "      <td>50414.0</td>\n",
       "      <td>55456.0</td>\n",
       "      <td>NaN</td>\n",
       "      <td>NaN</td>\n",
       "      <td>uncategorized</td>\n",
       "      <td>powerful 3.0l v6 engine, 227bhp, 6 speed , key...</td>\n",
       "      <td>premium upholstery electric seats. memory seat...</td>\n",
       "      <td>NaN</td>\n",
       "      <td>25800.0</td>\n",
       "      <td>17.0</td>\n",
       "    </tr>\n",
       "  </tbody>\n",
       "</table>\n",
       "<p>5 rows × 52 columns</p>\n",
       "</div>"
      ],
      "text/plain": [
       "            make    model  manufactured  vehicle_type_bus_mini_bus  \\\n",
       "0     land rover    range          2018                          0   \n",
       "1  mercedes-benz     c200          2017                          0   \n",
       "2          honda  odyssey          2007                          0   \n",
       "3         toyota    altis          2008                          0   \n",
       "4          lexus       gs          2006                          0   \n",
       "\n",
       "   vehicle_type_hatchback  vehicle_type_luxury_sedan  \\\n",
       "0                       0                          0   \n",
       "1                       0                          1   \n",
       "2                       0                          0   \n",
       "3                       0                          0   \n",
       "4                       0                          1   \n",
       "\n",
       "   vehicle_type_midsized_sedan  vehicle_type_mpv  vehicle_type_others  \\\n",
       "0                            0                 0                    0   \n",
       "1                            0                 0                    0   \n",
       "2                            0                 1                    0   \n",
       "3                            1                 0                    0   \n",
       "4                            0                 0                    0   \n",
       "\n",
       "   vehicle_type_sports_car  ...      omv       arf  opc_scheme  lifespan  \\\n",
       "0                        0  ...  88906.0  132031.0         NaN       NaN   \n",
       "1                        0  ...  40678.0   43950.0         NaN       NaN   \n",
       "2                        0  ...  27994.0   30794.0         NaN       NaN   \n",
       "3                        0  ...  16084.0   16084.0         NaN       NaN   \n",
       "4                        0  ...  50414.0   55456.0         NaN       NaN   \n",
       "\n",
       "    eco_category                                           features  \\\n",
       "0  uncategorized  3l supercharged v6 p380 engine at 375bhp/450nm...   \n",
       "1  uncategorized  2.0l 4 cylinders inline turbocharged engine, p...   \n",
       "2  uncategorized  2.4l k24a 4 cylinders inline dohc i-vtec, 5 sp...   \n",
       "3  uncategorized  super fuel efficient 1.6l 16 valves dohc vvt-i...   \n",
       "4  uncategorized  powerful 3.0l v6 engine, 227bhp, 6 speed , key...   \n",
       "\n",
       "                                         accessories  indicative_price  \\\n",
       "0  2 x massage/memory/cooling & warmer seat, rear...               NaN   \n",
       "1  multi function steering, electric tailgate, re...               NaN   \n",
       "2  cruise control, touchscreen audio, reverse cam...               NaN   \n",
       "3  leather seats, pioneer dvd audio system with r...               NaN   \n",
       "4  premium upholstery electric seats. memory seat...               NaN   \n",
       "\n",
       "      price  vehicle_age  \n",
       "0  193788.0          6.0  \n",
       "1   96800.0          6.0  \n",
       "2   39800.0         17.0  \n",
       "3   44800.0         15.0  \n",
       "4   25800.0         17.0  \n",
       "\n",
       "[5 rows x 52 columns]"
      ]
     },
     "execution_count": 56,
     "metadata": {},
     "output_type": "execute_result"
    }
   ],
   "source": [
    "data.head()"
   ]
  },
  {
   "cell_type": "markdown",
   "id": "72473fd1",
   "metadata": {},
   "source": [
    "**please write code after**"
   ]
  },
  {
   "cell_type": "markdown",
   "id": "4f540758",
   "metadata": {},
   "source": [
    "#### 2.1.10: Process of 'curb_weight' column"
   ]
  },
  {
   "cell_type": "code",
   "execution_count": 57,
   "id": "55ada4c0",
   "metadata": {},
   "outputs": [
    {
     "name": "stdout",
     "output_type": "stream",
     "text": [
      "Initial missing curb_weight values: 307\n"
     ]
    },
    {
     "name": "stderr",
     "output_type": "stream",
     "text": [
      "e:\\develop\\Python\\Anaconda\\lib\\site-packages\\sklearn\\preprocessing\\_encoders.py:828: FutureWarning: `sparse` was renamed to `sparse_output` in version 1.2 and will be removed in 1.4. `sparse_output` is ignored unless you leave `sparse` to its default value.\n",
      "  warnings.warn(\n"
     ]
    },
    {
     "name": "stdout",
     "output_type": "stream",
     "text": [
      "An error occurred: local variable 'stats' referenced before assignment\n",
      "Final number of rows: 25000\n"
     ]
    }
   ],
   "source": [
    "import pandas as pd\n",
    "import numpy as np\n",
    "from sklearn.impute import KNNImputer\n",
    "from sklearn.preprocessing import OneHotEncoder\n",
    "from scipy import stats\n",
    "\n",
    "def impute_missing_values(data, target_column, estimation_features, n_neighbors=5, z_threshold=3):\n",
    "    \"\"\"\n",
    "    使用KNN方法对目标列进行缺失值填充，并在必要时使用中位数填充。\n",
    "    增加了异常值检测和处理，以及错误处理。\n",
    "\n",
    "    参数:\n",
    "    data (pd.DataFrame): 包含目标列和估算特征的数据框\n",
    "    target_column (str): 需要填充缺失值的目标列名\n",
    "    estimation_features (list): 用于估算的特征列表\n",
    "    n_neighbors (int): KNN算法中的邻居数量，默认为5\n",
    "    z_threshold (float): 用于检测异常值的Z分数阈值，默认为3\n",
    "\n",
    "    返回:\n",
    "    pd.DataFrame: 处理后的数据框\n",
    "    dict: 包含处理结果统计信息的字典\n",
    "    \"\"\"\n",
    "    try:\n",
    "        # 复制数据框以避免修改原始数据\n",
    "        data = data.copy()\n",
    "        \n",
    "        # 记录初始缺失值数量\n",
    "        initial_missing = data[target_column].isnull().sum()\n",
    "        print(f\"Initial missing {target_column} values: {initial_missing}\")\n",
    "\n",
    "        # 为KNN估算器准备数据\n",
    "        impute_data = data[estimation_features + [target_column]].copy()\n",
    "\n",
    "        # 对分类变量进行独热编码\n",
    "        categorical_features = impute_data.select_dtypes(include=['object', 'category']).columns\n",
    "        if not categorical_features.empty:\n",
    "            encoder = OneHotEncoder(sparse=False, handle_unknown='ignore')\n",
    "            encoded_features = encoder.fit_transform(impute_data[categorical_features])\n",
    "            \n",
    "            # 使用兼容新旧版本的方法获取特征名\n",
    "            try:\n",
    "                encoded_feature_names = encoder.get_feature_names_out(categorical_features)\n",
    "            except AttributeError:\n",
    "                # 如果是旧版本的scikit-learn，使用旧方法\n",
    "                encoded_feature_names = encoder.get_feature_names(categorical_features)\n",
    "            \n",
    "            encoded_df = pd.DataFrame(encoded_features, columns=encoded_feature_names, index=impute_data.index)\n",
    "            impute_data = pd.concat([impute_data.drop(columns=categorical_features), encoded_df], axis=1)\n",
    "\n",
    "        # 检查是否有足够的非缺失值来进行KNN估算\n",
    "        non_missing_count = impute_data[target_column].notna().sum()\n",
    "        if non_missing_count > n_neighbors:\n",
    "            # 初始化KNN估算器并执行估算\n",
    "            imputer = KNNImputer(n_neighbors=n_neighbors, weights='distance')\n",
    "            imputed_values = imputer.fit_transform(impute_data)\n",
    "            \n",
    "            # 将估算的值放回原始数据框\n",
    "            data.loc[data[target_column].isnull(), target_column] = imputed_values[data[target_column].isnull(), -1]\n",
    "        else:\n",
    "            print(f\"Not enough non-missing values for KNN imputation. Skipping KNN step.\")\n",
    "\n",
    "        # 如果仍有缺失值，用分组中位数填充\n",
    "        if data[target_column].isnull().sum() > 0:\n",
    "            for feature in estimation_features:\n",
    "                if data[feature].dtype in ['object', 'category']:\n",
    "                    median_values = data.groupby(feature)[target_column].transform('median')\n",
    "                    data[target_column].fillna(median_values, inplace=True)\n",
    "\n",
    "        # 如果还有缺失值，用整体中位数填充\n",
    "        data[target_column].fillna(data[target_column].median(), inplace=True)\n",
    "\n",
    "        # 异常值检测和处理\n",
    "        z_scores = np.abs(stats.zscore(data[target_column]))\n",
    "        outliers = z_scores > z_threshold\n",
    "        print(f\"Detected {outliers.sum()} outliers in {target_column}\")\n",
    "\n",
    "        if outliers.sum() > 0:\n",
    "            # 使用中位数替换异常值\n",
    "            median_value = data[target_column].median()\n",
    "            data.loc[outliers, target_column] = median_value\n",
    "            print(f\"Replaced outliers with median value: {median_value}\")\n",
    "\n",
    "        # 计算并打印处理后的统计信息\n",
    "        final_missing = data[target_column].isnull().sum()\n",
    "        filled_values = initial_missing - final_missing\n",
    "        print(f\"After processing, missing {target_column} values: {final_missing}\")\n",
    "        print(f\"Filled missing values: {filled_values}\")\n",
    "\n",
    "        print(f\"\\n{target_column} statistics:\")\n",
    "        print(data[target_column].describe())\n",
    "\n",
    "        # 返回处理后的数据框和统计信息\n",
    "        stats = {\n",
    "            'initial_missing': initial_missing,\n",
    "            'final_missing': final_missing,\n",
    "            'filled_values': filled_values,\n",
    "            'outliers_detected': outliers.sum(),\n",
    "            'outliers_replaced': outliers.sum()\n",
    "        }\n",
    "        \n",
    "        return data, stats\n",
    "    \n",
    "    except Exception as e:\n",
    "        print(f\"An error occurred: {str(e)}\")\n",
    "        # 返回原始数据和错误信息\n",
    "        return data, {'error': str(e)}\n",
    "\n",
    "data, stats = impute_missing_values(data, 'curb_weight', ['type_of_vehicle', 'manufactured'])\n",
    "print(f\"Final number of rows: {len(data)}\")"
   ]
  },
  {
   "cell_type": "markdown",
   "id": "3759ca6e",
   "metadata": {},
   "source": [
    "#### 2.1.11: Process of 'power' column"
   ]
  },
  {
   "cell_type": "code",
   "execution_count": 58,
   "id": "c04089c1",
   "metadata": {},
   "outputs": [
    {
     "name": "stdout",
     "output_type": "stream",
     "text": [
      "Initial missing power values: 2640\n"
     ]
    },
    {
     "name": "stderr",
     "output_type": "stream",
     "text": [
      "e:\\develop\\Python\\Anaconda\\lib\\site-packages\\sklearn\\preprocessing\\_encoders.py:828: FutureWarning: `sparse` was renamed to `sparse_output` in version 1.2 and will be removed in 1.4. `sparse_output` is ignored unless you leave `sparse` to its default value.\n",
      "  warnings.warn(\n"
     ]
    },
    {
     "name": "stdout",
     "output_type": "stream",
     "text": [
      "An error occurred: local variable 'stats' referenced before assignment\n"
     ]
    }
   ],
   "source": [
    "# Fill null rows using mean values, group by type_of_vehicle\n",
    "# data['power'] = data.groupby('type_of_vehicle')['power'].transform(lambda x: x.fillna(x.mean()))\n",
    "data, stats = impute_missing_values(data, 'power', ['type_of_vehicle'])\n"
   ]
  },
  {
   "cell_type": "markdown",
   "id": "99a59c1a",
   "metadata": {},
   "source": [
    "#### 2.1.12: Process of 'fuel_type' column"
   ]
  },
  {
   "cell_type": "code",
   "execution_count": 59,
   "id": "64f4ec09",
   "metadata": {},
   "outputs": [],
   "source": [
    "data = data.drop(columns=[\"fuel_type\"])"
   ]
  },
  {
   "cell_type": "markdown",
   "id": "34807fd4",
   "metadata": {},
   "source": [
    "#### 2.1.13: Process of 'engine_cap' column"
   ]
  },
  {
   "cell_type": "code",
   "execution_count": 60,
   "id": "6f59e6d5",
   "metadata": {},
   "outputs": [
    {
     "name": "stdout",
     "output_type": "stream",
     "text": [
      "Initial missing engine_cap values: 596\n"
     ]
    },
    {
     "name": "stderr",
     "output_type": "stream",
     "text": [
      "e:\\develop\\Python\\Anaconda\\lib\\site-packages\\sklearn\\preprocessing\\_encoders.py:828: FutureWarning: `sparse` was renamed to `sparse_output` in version 1.2 and will be removed in 1.4. `sparse_output` is ignored unless you leave `sparse` to its default value.\n",
      "  warnings.warn(\n"
     ]
    },
    {
     "name": "stdout",
     "output_type": "stream",
     "text": [
      "An error occurred: local variable 'stats' referenced before assignment\n"
     ]
    }
   ],
   "source": [
    "# Fill null rows using mean values, group by type_of_vehicle\n",
    "# data['engine_cap'] = data.groupby('type_of_vehicle')['engine_cap'].transform(lambda x: x.fillna(int(x.mean())))\n",
    "data, stats = impute_missing_values(data, 'engine_cap', ['type_of_vehicle'])\n"
   ]
  },
  {
   "cell_type": "markdown",
   "id": "72e7c6f6",
   "metadata": {},
   "source": [
    "#### 2.1.14: Process of 'no_of_owners' column"
   ]
  },
  {
   "cell_type": "code",
   "execution_count": 61,
   "id": "bbe7eefb",
   "metadata": {},
   "outputs": [
    {
     "name": "stdout",
     "output_type": "stream",
     "text": [
      "Initial missing no_of_owners values: 18\n",
      "An error occurred: local variable 'stats' referenced before assignment\n",
      "Final number of rows: 25000\n"
     ]
    },
    {
     "name": "stderr",
     "output_type": "stream",
     "text": [
      "e:\\develop\\Python\\Anaconda\\lib\\site-packages\\sklearn\\preprocessing\\_encoders.py:828: FutureWarning: `sparse` was renamed to `sparse_output` in version 1.2 and will be removed in 1.4. `sparse_output` is ignored unless you leave `sparse` to its default value.\n",
      "  warnings.warn(\n"
     ]
    }
   ],
   "source": [
    "data, stats = impute_missing_values(data, 'no_of_owners', ['type_of_vehicle'])\n",
    "print(f\"Final number of rows: {len(data)}\")\n",
    "\n",
    "# data = data.dropna(subset=[\"no_of_owners\"])"
   ]
  },
  {
   "cell_type": "markdown",
   "id": "bb7dceff",
   "metadata": {},
   "source": [
    "#### 2.1.15: Process of 'depreciation' column"
   ]
  },
  {
   "cell_type": "code",
   "execution_count": 62,
   "id": "0228b0d0",
   "metadata": {},
   "outputs": [
    {
     "name": "stdout",
     "output_type": "stream",
     "text": [
      "Initial missing depreciation values: 507\n"
     ]
    },
    {
     "name": "stderr",
     "output_type": "stream",
     "text": [
      "e:\\develop\\Python\\Anaconda\\lib\\site-packages\\sklearn\\preprocessing\\_encoders.py:828: FutureWarning: `sparse` was renamed to `sparse_output` in version 1.2 and will be removed in 1.4. `sparse_output` is ignored unless you leave `sparse` to its default value.\n",
      "  warnings.warn(\n"
     ]
    },
    {
     "name": "stdout",
     "output_type": "stream",
     "text": [
      "An error occurred: local variable 'stats' referenced before assignment\n",
      "Final number of rows: 25000\n"
     ]
    }
   ],
   "source": [
    "# data = data.dropna(subset=[\"depreciation\"])\n",
    "data, stats = impute_missing_values(data, 'depreciation', ['type_of_vehicle'])\n",
    "print(f\"Final number of rows: {len(data)}\")"
   ]
  },
  {
   "cell_type": "markdown",
   "id": "c0e7fb69",
   "metadata": {},
   "source": [
    "#### 2.1.16: Process of 'coe' column\n",
    "No processing needed"
   ]
  },
  {
   "cell_type": "markdown",
   "id": "ec883d14",
   "metadata": {},
   "source": [
    "#### 2.1.17: Process of 'road_tax' column"
   ]
  },
  {
   "cell_type": "code",
   "execution_count": 63,
   "id": "c29f0c5f",
   "metadata": {},
   "outputs": [],
   "source": [
    "# Fill null rows using mean values\n",
    "data['road_tax'] = data['road_tax'].fillna(int(data['road_tax'].mean()))"
   ]
  },
  {
   "cell_type": "markdown",
   "id": "878b68ec",
   "metadata": {},
   "source": [
    "#### 2.1.18: Process of 'dereg_value' column"
   ]
  },
  {
   "cell_type": "code",
   "execution_count": 64,
   "id": "18297134",
   "metadata": {},
   "outputs": [
    {
     "name": "stdout",
     "output_type": "stream",
     "text": [
      "Initial missing dereg_value values: 220\n"
     ]
    },
    {
     "name": "stderr",
     "output_type": "stream",
     "text": [
      "e:\\develop\\Python\\Anaconda\\lib\\site-packages\\sklearn\\preprocessing\\_encoders.py:828: FutureWarning: `sparse` was renamed to `sparse_output` in version 1.2 and will be removed in 1.4. `sparse_output` is ignored unless you leave `sparse` to its default value.\n",
      "  warnings.warn(\n"
     ]
    },
    {
     "name": "stdout",
     "output_type": "stream",
     "text": [
      "An error occurred: local variable 'stats' referenced before assignment\n",
      "Final number of rows: 25000\n"
     ]
    }
   ],
   "source": [
    "# data = data.dropna(subset=[\"dereg_value\"])\n",
    "data, stats = impute_missing_values(data, 'dereg_value', ['type_of_vehicle'])\n",
    "print(f\"Final number of rows: {len(data)}\")"
   ]
  },
  {
   "cell_type": "markdown",
   "id": "f0bb4de6",
   "metadata": {},
   "source": [
    "#### 2.1.19: Process of 'mileage' column"
   ]
  },
  {
   "cell_type": "code",
   "execution_count": 65,
   "id": "3442808c",
   "metadata": {},
   "outputs": [],
   "source": [
    "data = data.drop(columns=[\"mileage\"])"
   ]
  },
  {
   "cell_type": "markdown",
   "id": "57aa4a4a",
   "metadata": {},
   "source": [
    "#### 2.1.20: Process of 'omv' column"
   ]
  },
  {
   "cell_type": "code",
   "execution_count": 66,
   "id": "733965a6",
   "metadata": {},
   "outputs": [
    {
     "name": "stdout",
     "output_type": "stream",
     "text": [
      "Initial missing omv values: 64\n",
      "An error occurred: local variable 'stats' referenced before assignment\n",
      "Final number of rows: 25000\n"
     ]
    },
    {
     "name": "stderr",
     "output_type": "stream",
     "text": [
      "e:\\develop\\Python\\Anaconda\\lib\\site-packages\\sklearn\\preprocessing\\_encoders.py:828: FutureWarning: `sparse` was renamed to `sparse_output` in version 1.2 and will be removed in 1.4. `sparse_output` is ignored unless you leave `sparse` to its default value.\n",
      "  warnings.warn(\n"
     ]
    }
   ],
   "source": [
    "# data = data.dropna(subset=[\"omv\"])\n",
    "data, stats = impute_missing_values(data, 'omv', ['type_of_vehicle'])\n",
    "print(f\"Final number of rows: {len(data)}\")"
   ]
  },
  {
   "cell_type": "markdown",
   "id": "315131a4",
   "metadata": {},
   "source": [
    "#### 2.1.21: Process of 'arf' column"
   ]
  },
  {
   "cell_type": "code",
   "execution_count": 67,
   "id": "bf459030",
   "metadata": {},
   "outputs": [
    {
     "name": "stdout",
     "output_type": "stream",
     "text": [
      "Initial missing arf values: 174\n"
     ]
    },
    {
     "name": "stderr",
     "output_type": "stream",
     "text": [
      "e:\\develop\\Python\\Anaconda\\lib\\site-packages\\sklearn\\preprocessing\\_encoders.py:828: FutureWarning: `sparse` was renamed to `sparse_output` in version 1.2 and will be removed in 1.4. `sparse_output` is ignored unless you leave `sparse` to its default value.\n",
      "  warnings.warn(\n"
     ]
    },
    {
     "name": "stdout",
     "output_type": "stream",
     "text": [
      "An error occurred: local variable 'stats' referenced before assignment\n",
      "Final number of rows: 25000\n"
     ]
    }
   ],
   "source": [
    "# data = data.dropna(subset=[\"arf\"])\n",
    "data, stats = impute_missing_values(data, 'arf', ['type_of_vehicle'])\n",
    "print(f\"Final number of rows: {len(data)}\")"
   ]
  },
  {
   "cell_type": "markdown",
   "id": "cea73125",
   "metadata": {},
   "source": [
    "#### 2.1.22: Process of 'opc_scheme' column"
   ]
  },
  {
   "cell_type": "code",
   "execution_count": 68,
   "id": "e641536d",
   "metadata": {},
   "outputs": [],
   "source": [
    "data = data.drop(columns=[\"opc_scheme\"])"
   ]
  },
  {
   "cell_type": "markdown",
   "id": "c8139736",
   "metadata": {},
   "source": [
    "#### 2.1.23: Process of 'lifespan' column"
   ]
  },
  {
   "cell_type": "code",
   "execution_count": 69,
   "id": "3b3f29b8",
   "metadata": {},
   "outputs": [],
   "source": [
    "data = data.drop(columns=[\"lifespan\"])"
   ]
  },
  {
   "cell_type": "markdown",
   "id": "08b69cef",
   "metadata": {},
   "source": [
    "#### 2.1.24: Process of 'eco_category' column"
   ]
  },
  {
   "cell_type": "code",
   "execution_count": 70,
   "id": "a5e4c503",
   "metadata": {},
   "outputs": [],
   "source": [
    "data = data.drop(columns=[\"eco_category\"])"
   ]
  },
  {
   "cell_type": "markdown",
   "id": "06210d23",
   "metadata": {},
   "source": [
    "#### 2.1.25: Process of 'features' column"
   ]
  },
  {
   "cell_type": "code",
   "execution_count": 71,
   "id": "5d03c03f",
   "metadata": {},
   "outputs": [],
   "source": [
    "data = data.drop(columns=[\"features\"])"
   ]
  },
  {
   "cell_type": "markdown",
   "id": "f70c0159",
   "metadata": {},
   "source": [
    "#### 2.1.26: Process of 'accessories' column"
   ]
  },
  {
   "cell_type": "code",
   "execution_count": 72,
   "id": "d50928fc",
   "metadata": {},
   "outputs": [],
   "source": [
    "data = data.drop(columns=[\"accessories\"])"
   ]
  },
  {
   "cell_type": "markdown",
   "id": "d4ed5e8d",
   "metadata": {},
   "source": [
    "#### 2.1.27: Process of 'indicative_price' column"
   ]
  },
  {
   "cell_type": "code",
   "execution_count": 73,
   "id": "45ee053f",
   "metadata": {},
   "outputs": [],
   "source": [
    "data = data.drop(columns=[\"indicative_price\"])\n",
    "# 删除原有的 type_of_vehicle 列\n",
    "data.drop('type_of_vehicle', axis=1, inplace=True)"
   ]
  },
  {
   "cell_type": "markdown",
   "id": "7ba32f7e",
   "metadata": {},
   "source": [
    "save the train_cleaned.csv"
   ]
  },
  {
   "cell_type": "code",
   "execution_count": 74,
   "id": "8fedfc3d",
   "metadata": {},
   "outputs": [],
   "source": [
    "current_dir = os.getcwd()\n",
    "save_filename = 'train_cleaned.csv'\n",
    "save_filepath = os.path.join(current_dir, save_filename)\n",
    "data.to_csv(save_filepath)"
   ]
  }
 ],
 "metadata": {
  "kernelspec": {
   "display_name": "base",
   "language": "python",
   "name": "python3"
  },
  "language_info": {
   "codemirror_mode": {
    "name": "ipython",
    "version": 3
   },
   "file_extension": ".py",
   "mimetype": "text/x-python",
   "name": "python",
   "nbconvert_exporter": "python",
   "pygments_lexer": "ipython3",
   "version": "3.10.9"
  }
 },
 "nbformat": 4,
 "nbformat_minor": 5
}
